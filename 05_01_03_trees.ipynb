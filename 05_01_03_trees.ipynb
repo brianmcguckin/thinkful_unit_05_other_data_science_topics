{
 "cells": [
  {
   "cell_type": "markdown",
   "metadata": {},
   "source": [
    "## Trees\n",
    "**Tree**: set of nodes connected in a hierarchy\n",
    "- Each node is a value\n",
    "    - **Root**: first (top) node\n",
    "    - **Parent**: node with nodes connected below\n",
    "    - **Child**: node connected to a node above it (above node is its parent)\n",
    "    - **Leaf**: node with no children\n",
    "- While trees/nodes here are similar to decision trees, their definitions are not entirely the same\n",
    "\n",
    "**Binary Tree**: each non-leaf node has no more than two children\n",
    "- Tree is a **full** binary tree if each parent has two children\n",
    "\n",
    "### Implementation in Python\n",
    "Binary tree: two steps\n",
    "1. Create node class\n",
    "2. Populate children with their own nodes"
   ]
  },
  {
   "cell_type": "code",
   "execution_count": 1,
   "metadata": {},
   "outputs": [],
   "source": [
    "class Node:\n",
    "    def __init__(self, val):\n",
    "        self.left = None\n",
    "        self.right = None\n",
    "        self.val = val"
   ]
  },
  {
   "cell_type": "code",
   "execution_count": 2,
   "metadata": {},
   "outputs": [],
   "source": [
    "# establish root node & children\n",
    "root = Node('A')\n",
    "root.left = Node('B')\n",
    "root.right = Node('C')\n",
    "\n",
    "# add children for B and C\n",
    "root.left.left = Node('D')\n",
    "root.left.right = Node('E')\n",
    "root.right.left = Node('F')\n",
    "root.right.right = Node('G')"
   ]
  },
  {
   "cell_type": "markdown",
   "metadata": {},
   "source": [
    "- Tree can grow easily by adding further children to leaf nodes\n",
    "- Valuable characteristic for when trees need to dynamically grow and prune\n",
    "\n",
    "## Flexibility and Use Cases\n",
    "- Arrays & linked lists have a clear, rigid order\n",
    "- Trees are much more flexible\n",
    "    - Can enter data in many different ways\n",
    "    - Leads to variety of different shaped trees\n",
    "    - Nodes can have more than 2 children\n",
    "    - Nodes can have children that increase as the tree grows\n",
    "- Hierarchical data: tress are useful for representing layered data\n",
    "    - Academic courses: department > level > course\n",
    "    - ML models: supervised/unsupervised > class > implementation\n",
    "\n",
    "## Traversing a Tree\n",
    "- Traversing a tree is necessary to determine its structure and node values\n",
    "- For reading data, trees have more options than arrays and linked lists\n",
    "- Breadth first: explore the breadth of layers one at a time starting from the root\n",
    "    - In example tree: A B C D E F G\n",
    "- Depth first: aims to find the depth of a tree first\n",
    "    - Move all the way through the left side\n",
    "    - Then back one layer to the right\n",
    "    - Then proceed down the left again\n",
    "    - Example tree: A B D E C F G\n",
    "    \n",
    "## Binary Heaps\n",
    "- Two defining features\n",
    "    1. Full binary tree\n",
    "    2. Values either always increase or decrease moving from layer to layer\n",
    "        - Minimum binary heap: parent's value is always less than children's\n",
    "        - Maximum binary heap: parent's value is always greater than children's\n",
    "- Always used to store numeric data\n",
    "- Contains built in logic to more quickly find values/subsets from a larger dataset\n",
    "\n",
    "## Drill\n",
    "- Implement a binary tree, filled with 15 pieces of random data\n",
    "- Write a program to traverse the tree using a breadth first traversal\n",
    "- If there's time, try writing programs for other methods of traversal"
   ]
  },
  {
   "cell_type": "code",
   "execution_count": null,
   "metadata": {},
   "outputs": [],
   "source": []
  }
 ],
 "metadata": {
  "kernelspec": {
   "display_name": "Python 3",
   "language": "python",
   "name": "python3"
  },
  "language_info": {
   "codemirror_mode": {
    "name": "ipython",
    "version": 3
   },
   "file_extension": ".py",
   "mimetype": "text/x-python",
   "name": "python",
   "nbconvert_exporter": "python",
   "pygments_lexer": "ipython3",
   "version": "3.6.5"
  }
 },
 "nbformat": 4,
 "nbformat_minor": 2
}
