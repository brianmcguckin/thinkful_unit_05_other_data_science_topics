{
 "cells": [
  {
   "cell_type": "markdown",
   "metadata": {},
   "source": [
    "## Trees\n",
    "**Tree**: set of nodes connected in a hierarchy\n",
    "- Each node is a value\n",
    "    - **Root**: first (top) node\n",
    "    - **Parent**: node with nodes connected below\n",
    "    - **Child**: node connected to a node above it (above node is its parent)\n",
    "    - **Leaf**: node with no children\n",
    "- While trees/nodes here are similar to decision trees, their definitions are not entirely the same\n",
    "\n",
    "**Binary Tree**: each non-leaf node has no more than two children\n",
    "- Tree is a **full** binary tree if each parent has two children\n",
    "\n",
    "### Implementation in Python\n",
    "Binary tree: two steps\n",
    "1. Create node class\n",
    "2. Populate children with their own nodes"
   ]
  },
  {
   "cell_type": "code",
   "execution_count": 1,
   "metadata": {},
   "outputs": [],
   "source": [
    "class Node:\n",
    "    def __init__(self, val):\n",
    "        self.left = None\n",
    "        self.right = None\n",
    "        self.val = val"
   ]
  },
  {
   "cell_type": "code",
   "execution_count": 2,
   "metadata": {},
   "outputs": [],
   "source": [
    "# establish root node & children\n",
    "root = Node('A')\n",
    "root.left = Node('B')\n",
    "root.right = Node('C')\n",
    "\n",
    "# add children for B and C\n",
    "root.left.left = Node('D')\n",
    "root.left.right = Node('E')\n",
    "root.right.left = Node('F')\n",
    "root.right.right = Node('G')"
   ]
  },
  {
   "cell_type": "markdown",
   "metadata": {},
   "source": [
    "- Tree can grow easily by adding further children to leaf nodes\n",
    "- Valuable characteristic for when trees need to dynamically grow and prune\n",
    "\n",
    "## Flexibility and Use Cases\n",
    "- Arrays & linked lists have a clear, rigid order\n",
    "- Trees are much more flexible\n",
    "    - Can enter data in many different ways\n",
    "    - Leads to variety of different shaped trees\n",
    "    - Nodes can have more than 2 children\n",
    "    - Nodes can have children that increase as the tree grows\n",
    "- Hierarchical data: tress are useful for representing layered data\n",
    "    - Academic courses: department > level > course\n",
    "    - ML models: supervised/unsupervised > class > implementation\n",
    "\n",
    "## Traversing a Tree\n",
    "- Traversing a tree is necessary to determine its structure and node values\n",
    "- For reading data, trees have more options than arrays and linked lists\n",
    "- Breadth first: explore the breadth of layers one at a time starting from the root\n",
    "    - In example tree: A B C D E F G\n",
    "- Depth first: aims to find the depth of a tree first\n",
    "    - Move all the way through the left side\n",
    "    - Then back one layer to the right\n",
    "    - Then proceed down the left again\n",
    "    - Example tree: A B D E C F G\n",
    "    \n",
    "## Binary Heaps\n",
    "- Two defining features\n",
    "    1. Full binary tree\n",
    "    2. Values either always increase or decrease moving from layer to layer\n",
    "        - Minimum binary heap: parent's value is always less than children's\n",
    "        - Maximum binary heap: parent's value is always greater than children's\n",
    "- Always used to store numeric data\n",
    "- Contains built in logic to more quickly find values/subsets from a larger dataset\n",
    "\n",
    "## Drill\n",
    "- Implement a binary tree, filled with 15 pieces of random data\n",
    "- Write a program to traverse the tree using a breadth first traversal\n",
    "- If there's time, try writing programs for other methods of traversal"
   ]
  },
  {
   "cell_type": "code",
   "execution_count": 3,
   "metadata": {},
   "outputs": [],
   "source": [
    "class Node:\n",
    "    def __init__(self, val):\n",
    "        self.left = None\n",
    "        self.right = None\n",
    "        self.val = val"
   ]
  },
  {
   "cell_type": "code",
   "execution_count": 4,
   "metadata": {},
   "outputs": [],
   "source": [
    "# root layer 0\n",
    "root = Node(1)\n",
    "\n",
    "# layer 1\n",
    "root.left = Node(2)\n",
    "root.right = Node(3)\n",
    "\n",
    "# layer 2\n",
    "root.left.left = Node(4)\n",
    "root.left.right = Node(5)\n",
    "\n",
    "root.right.left = Node(6)\n",
    "root.right.right = Node(7)\n",
    "\n",
    "# layer 3\n",
    "root.left.left.left = Node(8)\n",
    "root.left.left.right = Node(9)\n",
    "\n",
    "root.left.right.left = Node(10)\n",
    "root.left.right.right = Node(11)\n",
    "\n",
    "root.right.left.left = Node(12)\n",
    "root.right.left.right = Node(13)\n",
    "\n",
    "root.right.right.left = Node(14)\n",
    "root.right.right.right = Node(15)"
   ]
  },
  {
   "cell_type": "code",
   "execution_count": 5,
   "metadata": {},
   "outputs": [
    {
     "name": "stdout",
     "output_type": "stream",
     "text": [
      "1\n",
      "2\n",
      "3\n",
      "4\n",
      "5\n",
      "6\n",
      "7\n",
      "8\n",
      "9\n",
      "10\n",
      "11\n",
      "12\n",
      "13\n",
      "14\n",
      "15\n"
     ]
    }
   ],
   "source": [
    "def print_layers(root):\n",
    "    for i in range(1, height(root)+1):\n",
    "        print_nodes(root, i)\n",
    "        \n",
    "def print_nodes(root, layer):\n",
    "    # no root case\n",
    "    if root is None:\n",
    "        return\n",
    "    # root is only layer\n",
    "    if layer == 1:\n",
    "        print(root.val)\n",
    "    # left/right layers\n",
    "    elif layer > 1:\n",
    "        print_nodes(root.left, layer-1)\n",
    "        print_nodes(root.right, layer-1)\n",
    "    \n",
    "def height(node):\n",
    "    # height of empty tree\n",
    "    if node is None:\n",
    "        return 0\n",
    "    # height for populated tree, return the larger height\n",
    "    else:\n",
    "        left_height = height(node.left)\n",
    "        right_height = height(node.right)\n",
    "        if left_height > right_height:\n",
    "            return left_height+1\n",
    "        else:\n",
    "            return right_height+1\n",
    "\n",
    "print_layers(root)"
   ]
  },
  {
   "cell_type": "code",
   "execution_count": null,
   "metadata": {},
   "outputs": [],
   "source": []
  }
 ],
 "metadata": {
  "kernelspec": {
   "display_name": "Python 3",
   "language": "python",
   "name": "python3"
  },
  "language_info": {
   "codemirror_mode": {
    "name": "ipython",
    "version": 3
   },
   "file_extension": ".py",
   "mimetype": "text/x-python",
   "name": "python",
   "nbconvert_exporter": "python",
   "pygments_lexer": "ipython3",
   "version": "3.6.5"
  }
 },
 "nbformat": 4,
 "nbformat_minor": 2
}
