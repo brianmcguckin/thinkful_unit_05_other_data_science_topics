{
 "cells": [
  {
   "cell_type": "markdown",
   "metadata": {},
   "source": [
    "## Advanced Experimentation\n",
    "- This section builds on unit 1\n",
    "- So far, learned one test for differences in two samples: t-test\n",
    "- This unit will cover other comparative tests, techniques, assumptions, and applications"
   ]
  },
  {
   "cell_type": "markdown",
   "metadata": {},
   "source": [
    "## Distribution comparison tests: parametric\n",
    "- Once an experiment is run and data has been collected, need to choose an analytic approach to compare A and B groups\n",
    "- Determining whether or not the variables of interest are normally distributed can help decide this approach\n",
    "- **Recap**: how to tell if a variable is normal\n",
    "    - Plot a histogram to see sample data shape, looking for bell curve\n",
    "    - QQ plot the data against a normally distributed variable\n",
    "    - If a variable is normally distributed, it will form a straight line at 45* angle from bottom left to upper right\n",
    "\n",
    "### Comparing Groups\n",
    "Examples of common parametric tests for comparing groups and their non-parametric equivalents\n",
    "\n",
    "#### Parametric vs. non-parametric\n",
    "- **Parametric test**: uses some known set of parameter estimates (eg mean & std dev) to represent the information in the data\n",
    "    - Appropriate when a variable takes a known distribution; it can be summarized using a few parameters\n",
    "    - Not appropriate for variables that don't conform to a distribution type\n",
    "        - Representing with these parameters will be misleading\n",
    "        - Need to instead use non-parametric tests\n",
    "- **Non-parametric test**: uses other estimates to represent certain pieces of information within a variable (such as median) but not the whole variable\n",
    "    - These estimates contain less information than parametric estimates\n",
    "    - Are less able to detect very small effects than parametric tests\n",
    "    - Less vulnerable to bias from extreme observations"
   ]
  },
  {
   "cell_type": "markdown",
   "metadata": {},
   "source": [
    "<table border=\"1\">\n",
    "<tr>\n",
    "<th>Experiment Type</th>\n",
    "<th colspan=\"2\">Normally Distributed</th>\n",
    "<th colspan=\"2\">Non-Normally Distributed</th>\n",
    "</tr>\n",
    "<tr>\n",
    "<th></th>\n",
    "<th>Test</th>\n",
    "<th>Function</th>\n",
    "<th>Test</th>\n",
    "<th>Function</th>\n",
    "</tr>\n",
    "<tr>\n",
    "<td>A/B test, two independent groups</td>\n",
    "<td>t-test for independent samples</td>\n",
    "<td>[`scipy.stats.ttest_ind`](https://docs.scipy.org/doc/scipy/reference/generated/scipy.stats.ttest_ind.html#scipy.stats.ttest_ind)</td>\n",
    "<td>Mann-Whitney U test<br>\n",
    "Moon's Median Test<br>\n",
    "Kruskal-Wallis Test</td>\n",
    "<td>[`scipy.stats.mannwhitneyu`](https://docs.scipy.org/doc/scipy/reference/generated/scipy.stats.mannwhitneyu.html#scipy.stats.mannwhitneyu)<br>\n",
    "[`scipy.stats.median_test`](https://docs.scipy.org/doc/scipy/reference/generated/scipy.stats.median_test.html#scipy.stats.median_test)<br>\n",
    "[`scipy.stats.kruskal`](https://docs.scipy.org/doc/scipy/reference/generated/scipy.stats.kruskal.html#scipy.stats.kruskal)</td>\n",
    "</tr>\n",
    "<tr>\n",
    "<td>A/B/C/… test, three or more independent groups</td>\n",
    "<td>One-way ANOVA</td>\n",
    "<td>[`scipy.stats.f_oneway`](https://docs.scipy.org/doc/scipy/reference/generated/scipy.stats.f_oneway.html#scipy.stats.f_oneway)</td>\n",
    "<td>Mood’s median test<br>\n",
    "Kruskal-Wallis test</td>\n",
    "<td>[`scipy.stats.median_test`](https://docs.scipy.org/doc/scipy/reference/generated/scipy.stats.median_test.html#scipy.stats.median_test)<br>\n",
    "[`scipy.stats.kruskal`](https://docs.scipy.org/doc/scipy/reference/generated/scipy.stats.kruskal.html#scipy.stats.kruskal)</td>\n",
    "</tr>\n",
    "<tr>\n",
    "<td>A/B test where all participants experience both versions</td>\n",
    "<td>t-test for paired samples</td>\n",
    "<td>[`scipy.stats.ttest_rel`](https://docs.scipy.org/doc/scipy/reference/generated/scipy.stats.ttest_rel.html#scipy.stats.ttest_rel)</td>\n",
    "<td>Wilcoxon signed-rank test</td>\n",
    "<td>[`scipy.stats.wilcoxon`](https://docs.scipy.org/doc/scipy/reference/generated/scipy.stats.wilcoxon.html#scipy.stats.wilcoxon)</td>\n",
    "</tr>\n",
    "</table>"
   ]
  },
  {
   "cell_type": "markdown",
   "metadata": {},
   "source": [
    "### Parametric tests\n",
    "- If data passes a visual inspection, use a parametric test to compare differences between groups\n",
    "- Focus here will be on tests that assume a normal distribution\n",
    "- Logic behind parametric testing: same for 2 groups and more than 2 groups\n",
    "    - Calculate how much information in the data can be explained by belonging to groups (often the diff between group means)\n",
    "    - Then calculate how much information is in the data overall (often the std deviation)\n",
    "    - Then divide the variance explained in the means by the total variance to get a test statistic representing the information explained by a group membership in the context of the overall variance\n",
    "- In combination with sample size, this test statistic is used to estimate how likely that difference is to have occurred if the groups did not differ in population\n",
    "    - The smaller this likelihood the more confident that the observed difference is a real one and not random\n",
    "    - Typically a 5% threshold is used: smaller than 5% concludes that groups are not the same in population"
   ]
  },
  {
   "cell_type": "code",
   "execution_count": 1,
   "metadata": {},
   "outputs": [],
   "source": [
    "import pandas as pd\n",
    "import numpy as np\n",
    "import matplotlib.pyplot as plt\n",
    "import scipy.stats as stats\n",
    "%matplotlib inline"
   ]
  },
  {
   "cell_type": "code",
   "execution_count": 3,
   "metadata": {},
   "outputs": [
    {
     "data": {
      "image/png": "[encoded data removed]",
      "text/plain": [
       "<Figure size 432x288 with 4 Axes>"
      ]
     },
     "metadata": {},
     "output_type": "display_data"
    }
   ],
   "source": [
    "# compare height of wooden, steel, and plastic rollercoasters\n",
    "# first create and load some coaster height data\n",
    "\n",
    "coaster_heights = pd.DataFrame()\n",
    "\n",
    "steel_heights = [\n",
    "    18.5, 14, 30.2, 25.2024, 15, 16, 13.5, 30, 20, 17, 13.716, 8.5, 16.1, 18,\n",
    "    41, 30.3, 32.004, 28.004, 30.48, 34\n",
    "    ]\n",
    "\n",
    "wood_heights = [\n",
    "    38.70, 46, 27.8, 43.52, 33.77, 29.26, 16.764, 45, 48.1, 16.764, 24.384,\n",
    "    24.5, 40, 35.96, 22.24, 21.33, 27.73, 23.46, 21.64, 30.12\n",
    "    ]\n",
    "\n",
    "plastic_heights = [\n",
    "    9, 8.2, 12, 21, 6.3, 11.7, 19.44, 4.75, 13, 18, 15.5, 15.6, 10, 11.77, 29,\n",
    "    5, 3.2, 14.75, 18.2, 17.7\n",
    "    ]\n",
    "\n",
    "coaster_heights['Steel'] = steel_heights\n",
    "coaster_heights['Wood'] = wood_heights\n",
    "coaster_heights['Plastic'] = plastic_heights\n",
    "\n",
    "# visualize\n",
    "coaster_heights.hist(sharey=True, sharex=True)\n",
    "plt.show()"
   ]
  },
  {
   "cell_type": "markdown",
   "metadata": {},
   "source": [
    "- None of these are pretty but seem sufficiently close to normal distribution (given this small sample size) that the mean and std dev would give useful information\n",
    "- Comparing 3 unrelated groups of data: parametric choice is one-way ANOVA (Analysis of Variance)\n",
    "\n",
    "### One-Way ANOVA\n",
    "- **Note**: the test statistic will identify whether any of the groups differs from the others, but not which groups are the different ones\n",
    "\n",
    "\\begin{equation}\n",
    "F=\\frac{{n\\sum(\\bar{Y}_j-\\bar{Y})^2}/{(a-1)}}{{\\sum\\sum(Y_{ij}-\\bar{Y}_j)^2}/{(N-a)}}\n",
    "\\end{equation}\n",
    "\n",
    "*n* = number of datapoints in each group\n",
    "$\\bar{Y}_j$ = mean for the *j*th group\n",
    "$\\bar{Y}$ = the overall mean\n",
    "$Y_{ij}$ = the *i*th value of *j*th group\n",
    "*a* = the number of groups\n",
    "*N* =  the total number of datapoints\n",
    "\n",
    "- Logic of one-way ANOVA: compare how much the group means $\\bar{Y}_j$ differ from the overall mean $\\bar{Y}$ to how much the observations within each group $Y_{ij}$ differ from the mean of that group $\\bar{Y}_j$\n",
    "- The ratio of the average group difference to the average within-group variance is used in combination with the sample size $N$ to calculate the probability of getting a difference that large in the sample if there were no meaningful difference between the groups in the population"
   ]
  },
  {
   "cell_type": "code",
   "execution_count": 4,
   "metadata": {},
   "outputs": [
    {
     "name": "stdout",
     "output_type": "stream",
     "text": [
      "Steel      22.57532\n",
      "Wood       30.85210\n",
      "Plastic    13.20550\n",
      "dtype: float64\n"
     ]
    },
    {
     "data": {
      "image/png": "[encoded data removed]",
      "text/plain": [
       "<Figure size 432x288 with 1 Axes>"
      ]
     },
     "metadata": {},
     "output_type": "display_data"
    },
    {
     "name": "stdout",
     "output_type": "stream",
     "text": [
      "21.515815855142634\n",
      "1.0927449918229045e-07\n"
     ]
    }
   ],
   "source": [
    "# printing the means for each group\n",
    "print(coaster_heights.mean())\n",
    "\n",
    "coaster_heights.boxplot()\n",
    "plt.show()\n",
    "\n",
    "F, p = stats.f_oneway(coaster_heights['Steel'],\n",
    "                      coaster_heights['Wood'],\n",
    "                      coaster_heights['Plastic'])\n",
    "\n",
    "# print f statistic\n",
    "print(F)\n",
    "\n",
    "# the probability, a p<0.5 would lead one to believe the gorup means were not\n",
    "# all similar in the population\n",
    "print(p)"
   ]
  },
  {
   "cell_type": "markdown",
   "metadata": {},
   "source": [
    "- Three groups appear to likely differ in population (p < .0001)\n",
    "- Determining which group is the odd one out\n",
    "    - Visual inspection of histograms suggest that plastic roller coasters are shorter than steel and wood\n",
    "    - To test this, perform a set of pairwise t-tests comparing each group to each other group"
   ]
  },
  {
   "cell_type": "code",
   "execution_count": 5,
   "metadata": {},
   "outputs": [
    {
     "name": "stdout",
     "output_type": "stream",
     "text": [
      "Ttest_indResult(statistic=-2.785911485728798, pvalue=0.008281657085474181)\n",
      "Ttest_indResult(statistic=3.8446067874474887, pvalue=0.00044650642104150624)\n",
      "Ttest_indResult(statistic=-6.683437837231596, pvalue=6.614422528990009e-08)\n"
     ]
    }
   ],
   "source": [
    "print(stats.ttest_ind(coaster_heights['Steel'], coaster_heights['Wood']))\n",
    "print(stats.ttest_ind(coaster_heights['Steel'], coaster_heights['Plastic']))\n",
    "print(stats.ttest_ind(coaster_heights['Plastic'], coaster_heights['Wood']))"
   ]
  },
  {
   "cell_type": "markdown",
   "metadata": {},
   "source": [
    "- Results indicate all three groups differ significantly from one another\n",
    "- Wood is highest, steel second, then plastic\n",
    "\n",
    "### Tests for Dependent Groups\n",
    "- Assumption so far has been that groups being compared are made up of different people\n",
    "- Sometimes want to compare someone to themselves to see if changing something will change their reaction\n",
    "- This leads to dependent groups: if response to condition A is known, have some information on how they might respond to condition B\n",
    "- Different statistical methods are needed to compare condition A to B\n",
    "- Paired t-test: use to compare two depended (or 'paired') groups:\n",
    "    - Differs from an independent t-test in two ways:\n",
    "        1. Difference score is calculated by subtracting each pair of scores, then calculating the mean different\n",
    "            - As opposed to calculating the difference of the means\n",
    "            - If there is no missing data, these methods are identical\n",
    "            - If in paired t-test a person is missing in condition A, their condition B data is discarded\n",
    "        2. The error term is calculated as the std dev of the difference scores"
   ]
  },
  {
   "cell_type": "code",
   "execution_count": null,
   "metadata": {},
   "outputs": [],
   "source": []
  }
 ],
 "metadata": {
  "kernelspec": {
   "display_name": "Python 3",
   "language": "python",
   "name": "python3"
  },
  "language_info": {
   "codemirror_mode": {
    "name": "ipython",
    "version": 3
   },
   "file_extension": ".py",
   "mimetype": "text/x-python",
   "name": "python",
   "nbconvert_exporter": "python",
   "pygments_lexer": "ipython3",
   "version": "3.6.5"
  }
 },
 "nbformat": 4,
 "nbformat_minor": 2
}
