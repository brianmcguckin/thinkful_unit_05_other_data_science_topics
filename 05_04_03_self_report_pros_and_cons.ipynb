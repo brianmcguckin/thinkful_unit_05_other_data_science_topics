{
 "cells": [
  {
   "cell_type": "markdown",
   "metadata": {},
   "source": [
    "## Self Report Pros and Cons\n",
    "- Behavioral vs self report data:\n",
    "    - Behavioral data is much preferred to self-report data, as what people say/think/plan/believe is actually a very weak indicator of what they end up doing\n",
    "    - Even when people are able to self report honestly, the value is questionable since people are bad at predicting their own actions in the future\n",
    "    - If behavioral and self report data disagree, behavioral data should be weighted higher\n",
    "- Self report data can be costly to respondents\n",
    "    - Asking customers to complete surveys 'costs' goodwill towards the company\n",
    "    - Longer surverys cost more in goodwill\n",
    "- Voluntary response bias: people are more likely to complete a customer satisfaction survey if they have strong feelings (good or bad) about the experience\n",
    "    - People in the middle are less likely to participate\n",
    "    - Can help this by offering incentives to complete the survey\n",
    "- Surveys are often a better way to get information on certain topics\n",
    "    - Sensitive: sex, money, bathroom\n",
    "    - Rare: bad customer experiences\n",
    "    - Complex: interpersonal relationships\n",
    "    - Surveys can be useful for these situations but need to keep in mind their limitations\n",
    "    \n",
    "### Drill: When to use surveys\n",
    "State whether a survey would be appropriate for the following:\n",
    "1. Popularity of various Uber drivers\n",
    "    - No, drivers already have stats that include ratings\n",
    "2. A grocery store wants to know how much people like strawberry, chocolate, and vanilla ice cream\n",
    "    - No, just keep track of what sells and infer from this behavior\n",
    "3. Trojan wants to know whether their condoms are more popular among straight people or gay people\n",
    "    - Yes, two sensitive topics that aren't easily observable\n",
    "4. Recently, rental rates for HappyCars have increased by 30%, which is quite unusual. You want to find out why this is happening and how to keep the increase going\n",
    "    - Maybe a survey can offer some insight into why consumers are choosing them more often but it probably won't tell the full story\n",
    "5. Assessing the success rate of a new advertising campaign\n",
    "    - No, track sales/response to what is being advertised\n",
    "6. Measuring the effect of nurse/patient ratio on patient recovery rates in hospital wards\n",
    "    - Yes, survey can be useful to determine this effect"
   ]
  },
  {
   "cell_type": "code",
   "execution_count": null,
   "metadata": {},
   "outputs": [],
   "source": []
  }
 ],
 "metadata": {
  "kernelspec": {
   "display_name": "Python 3",
   "language": "python",
   "name": "python3"
  },
  "language_info": {
   "codemirror_mode": {
    "name": "ipython",
    "version": 3
   },
   "file_extension": ".py",
   "mimetype": "text/x-python",
   "name": "python",
   "nbconvert_exporter": "python",
   "pygments_lexer": "ipython3",
   "version": "3.6.5"
  }
 },
 "nbformat": 4,
 "nbformat_minor": 2
}
