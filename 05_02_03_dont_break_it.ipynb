{
 "cells": [
  {
   "cell_type": "markdown",
   "metadata": {},
   "source": [
    "## Don't break websites\n",
    "- Scrapers consume information very quickly (much quicker than human visitors)\n",
    "- Rapid requests can flood server bandwidth and crash it (bringing down the site)\n",
    "    - Essentially the same mechanism that works in DoS/DDoS attacks\n",
    "- **Being a good netizen-scraper**\n",
    "    - Write scrapers to get information at a reasonable rate without overwhelming the server\n",
    "    - Work within the methods websites have developed to protect themselves from DoS attacks\n",
    "- Scrapy provides convenient options for this\n",
    "    - AUTOTHROTTLE_ENABLED: True\n",
    "    - HTTPCACHE_ENABLED: True\n",
    "    - ROBOTSTXT_OBEY: True\n",
    "    - USER_AGENT: ThinkfulDataScienceBootcampCrawler (thinkful.com)\n",
    "### Autothrottle and download delay\n",
    "- DOWNLOAD_DELAY: setting to introduce a variable amount of delay between calls\n",
    "- AUTOTHROTTLE_ENABLED: dynamically sets delay based on how quickly server responds to requests\n",
    "- Both of these are off in default\n",
    "\n",
    "### Caching\n",
    "- HTTPCACHE_ENABLED: when try to download page that's already cached on local machine, scrapy uses the cached copy\n",
    "- Before starting scraper initially, clear cache or turn this off to make sure data is most recent\n",
    "\n",
    "### Robots.txt\n",
    "- Some websites provide rules for scrapers about accepted activities and restricted parts of the website\n",
    "- This is done creating robots.txt file\n",
    "- User-agent: identifies the specific robot or  scraper that the permissions refer to\n",
    "- An asterisk indicates permissions apply to all robots otherwise not named\n",
    "- Scrapy set to automatically obey robots.txt files when they are found\n",
    "\n",
    "### User agent\n",
    "- Identifies yourself to the admins of the website\n",
    "- Ideally, provide a name and email so you can be contact if scraper is causing issues"
   ]
  },
  {
   "cell_type": "code",
   "execution_count": null,
   "metadata": {},
   "outputs": [],
   "source": []
  }
 ],
 "metadata": {
  "kernelspec": {
   "display_name": "Python 3",
   "language": "python",
   "name": "python3"
  },
  "language_info": {
   "codemirror_mode": {
    "name": "ipython",
    "version": 3
   },
   "file_extension": ".py",
   "mimetype": "text/x-python",
   "name": "python",
   "nbconvert_exporter": "python",
   "pygments_lexer": "ipython3",
   "version": "3.6.5"
  }
 },
 "nbformat": 4,
 "nbformat_minor": 2
}
