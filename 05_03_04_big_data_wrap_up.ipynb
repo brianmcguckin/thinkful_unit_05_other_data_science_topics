{
 "cells": [
  {
   "cell_type": "markdown",
   "metadata": {},
   "source": [
    "## Where's the code?\n",
    "- No code has been written this section for three reasons:\n",
    "    1. Functionally, the code to build these systems is generally outside the scope of data science\n",
    "    2. Hundreds of cores/drives required to use Hadoop or Spark as intended\n",
    "        - Typically using cloud computing like AWS\n",
    "    3. Data science is more concerned with using these systems rather than architecting them\n",
    "        - Stacks are largely unstandardized and have a large range of possible tools and implementations\n",
    "        - Until working with a specific big data implementation, focus on understanding why the tools exists and what they do\n",
    "        - Learn to use specific tools as needed rather than abstractly"
   ]
  },
  {
   "cell_type": "code",
   "execution_count": null,
   "metadata": {},
   "outputs": [],
   "source": []
  }
 ],
 "metadata": {
  "kernelspec": {
   "display_name": "Python 3",
   "language": "python",
   "name": "python3"
  },
  "language_info": {
   "codemirror_mode": {
    "name": "ipython",
    "version": 3
   },
   "file_extension": ".py",
   "mimetype": "text/x-python",
   "name": "python",
   "nbconvert_exporter": "python",
   "pygments_lexer": "ipython3",
   "version": "3.6.5"
  }
 },
 "nbformat": 4,
 "nbformat_minor": 2
}
