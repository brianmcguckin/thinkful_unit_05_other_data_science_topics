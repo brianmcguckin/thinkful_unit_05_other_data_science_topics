{
 "cells": [
  {
   "cell_type": "markdown",
   "metadata": {},
   "source": [
    "## Hadoop and Big Data Storage\n",
    "- Hadoop for our purposes refers to the larger environment of Hadoop-based software used for storing, moving, and analyzing big data under a unified framework\n",
    "- Components of Hadoop discussed here are only part of the picture\n",
    "    - Focus here is on the parts that are useful for model building and analytics\n",
    "    - Much of the infrastructural backend won't be covered\n",
    "### Key Components\n",
    "- Hadoop (or Hadoop clusters) have four core components\n",
    "1. Commons: utilities structure; typically handled by engineering\n",
    "2. YARN: scheduling and resourcing tool\n",
    "3. HDFS (Hadoop distributed file system): distributed data store with fast access tools\n",
    "    - Data is distributed across many machines/drives instead of a single one\n",
    "    - Advantages include speed of access & stability (not dependent on a single machine)\n",
    "4. MapReduce: data processing tool for distributed systems\n",
    "    - Basis of the Hadoop project as a whole\n",
    "    - PIG: tool for pulling raw data from HDFS\n",
    "        - Functionally equivalent to MapReduce with more intuitive querying based interface\n",
    "        - Navigating data can still be a challenge, but this is set by the internal data model & structures\n",
    "### Other Pieces\n",
    "- Data scientists most often won't be working with these tools (except PIG)\n",
    "- Data is most often set up with a querying layer\n",
    "    - Hive is most common for Hadoop\n",
    "    - Could also be Presto or a PIG Script\n",
    "- Hive: allows for the use of sql type tools/structures for large datasets in HDFS\n",
    "    - Speed: HiveQL is slower, partly because of data size but also because its generally slow\n",
    "        - Hive queries can take hours or days\n",
    "        - Faster tools (Presto) / database types (Redshift, Vertica) exist but are costly and require more hardware\n",
    "    - Syntax: slightly different around joins and datetimes (which is the case between sql languages as well)\n",
    "    - Other differences are minor from a user perspective\n",
    "        - Most differences are engineering related, stemming from the nature of working on distributed database\n",
    "        - working with distributed data works and feels similar to local work"
   ]
  },
  {
   "cell_type": "code",
   "execution_count": null,
   "metadata": {},
   "outputs": [],
   "source": []
  }
 ],
 "metadata": {
  "kernelspec": {
   "display_name": "Python 3",
   "language": "python",
   "name": "python3"
  },
  "language_info": {
   "codemirror_mode": {
    "name": "ipython",
    "version": 3
   },
   "file_extension": ".py",
   "mimetype": "text/x-python",
   "name": "python",
   "nbconvert_exporter": "python",
   "pygments_lexer": "ipython3",
   "version": "3.6.5"
  }
 },
 "nbformat": 4,
 "nbformat_minor": 2
}
