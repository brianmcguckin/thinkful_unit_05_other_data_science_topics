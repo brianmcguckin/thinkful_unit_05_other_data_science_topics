{
 "cells": [
  {
   "cell_type": "markdown",
   "metadata": {},
   "source": [
    "## Scraping\n",
    "**Scraping**: the process of programmatically extracting data from a website and saving it to a file or database\n",
    "1. Access web pages\n",
    "2. Locate specific information on those pages\n",
    "3. Save information somewhere for later access\n",
    "\n",
    "### Accessing web pages\n",
    "- No browser\n",
    "- Send request directly to the server, using web pages' url\n",
    "    - For web pages that require authorization, must include necessary passwords, cookies, tokens, etc with the request\n",
    "- Server sends response: either the html for the page, or an error code\n",
    "\n",
    "### Locating information\n",
    "- Parse the returned html for the information desired\n",
    "- Usually, html has consistent markers/clues to make finding info easier\n",
    "- There are parsing languages and Python libraries for parsing html\n",
    "- These lessons will use Xpath\n",
    "\n",
    "### Saving information\n",
    "- Can be stored in various file formats; csv, json, direct into SQL database\n",
    "- To work with the information, load from the file\n",
    "\n",
    "### Tools\n",
    "- Many libraries available:\n",
    "    - Requests: access web pages\n",
    "    - BeautifulSoup, lxml: parsing\n",
    "    - json module, pymysql: storing\n",
    "- Scrapy: library/API that integrates all three steps\n",
    "    - Web pages can be inconsistently formatted, parsing syntax could fail unexpectedly, queries can return poorly formatted results, etc\n",
    "    - Scrapy has built-in default methods to keep it from crashing due to unexpected inputs or failed requests"
   ]
  },
  {
   "cell_type": "code",
   "execution_count": null,
   "metadata": {},
   "outputs": [],
   "source": []
  }
 ],
 "metadata": {
  "kernelspec": {
   "display_name": "Python 3",
   "language": "python",
   "name": "python3"
  },
  "language_info": {
   "codemirror_mode": {
    "name": "ipython",
    "version": 3
   },
   "file_extension": ".py",
   "mimetype": "text/x-python",
   "name": "python",
   "nbconvert_exporter": "python",
   "pygments_lexer": "ipython3",
   "version": "3.6.5"
  }
 },
 "nbformat": 4,
 "nbformat_minor": 2
}
