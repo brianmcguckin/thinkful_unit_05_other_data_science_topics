{
 "cells": [
  {
   "cell_type": "markdown",
   "metadata": {},
   "source": [
    "## Basic Data Structures\n",
    "**Queue**: a series of arrivals that need to be remembered\n",
    "- Each entry (arrival) requires some processing\n",
    "- Arrivals can come more quickly than they can be processed\n",
    "- Don't want to lose new arrivals\n",
    "\n",
    "### Lists\n",
    "**List**: ordered sequence of items with an incrementing index (starting at 0)\n",
    "- Can call any list element by its index\n",
    "- Can easily add new items without changing the pre-existing list\n",
    "\n",
    "**FIFO queue**: first in first out, arrival waiting the longest gets priority\n",
    "- Head of the list should be index 0\n",
    "- Once they're handled, remove and decrease index by 1\n",
    "\n",
    "### Efficiency & fundamental steps\n",
    "**Big O notation**: method of quantifying the efficiency of a process in terms of the size of the inputted data structure\n",
    "\n",
    "**Fundamental instructions**: each small step in a program (eg assigning a variable, reading a value)\n",
    "- Efficiency:\n",
    "    - Number of steps it takes to complete a process\n",
    "    - How the number of steps changes as the size of input data increases\n",
    "- Deletion in FIFO queue is O(n), where *n* = length of list\n",
    "    - Scales linearly, longer lists take more time\n",
    "    - Removing entry and updating index is inefficient\n",
    "\n",
    "### Linked Lists\n",
    "**Linked list**: \n",
    "- Maintains order of entries but does not have an index\n",
    "- Each entry is linked to the next item\n",
    "    - Singly linked: links only point forward\n",
    "    - Doubly linked: links point forward and backward\n",
    "- Deletion is O(1) for linked list\n",
    "    - Only update pointer(s) pointing at the removed item\n",
    "    - Do not require adjusting every index following the removed item\n",
    "- Accessing is O(n) for linked list\n",
    "    - Have to start at first item and move through chain until at the desired entry\n",
    "    - Disadvantage to accessing lists, which is O(1)\n",
    "- *In Python there is no standard library implementation for linked lists*\n",
    "    - Must write it from scratch\n",
    "    - Typically done using a Node class\n",
    "        - Stores the value of an item\n",
    "        - Contains a pointer to the next node (and previous for doubly linked lists)"
   ]
  },
  {
   "cell_type": "code",
   "execution_count": 19,
   "metadata": {},
   "outputs": [],
   "source": [
    "# linked list implementation in python\n",
    "class Node(object):    \n",
    "    def __init__(self, data, next=None):\n",
    "        self.data = data\n",
    "        self.next = next\n",
    "\n",
    "class LinkedList(object): \n",
    "    def __init__(self, head=None, tail=None):\n",
    "        self.head = None\n",
    "        self.tail = None\n",
    "        \n",
    "    def print_list(self):\n",
    "        print(\"List Values:\")\n",
    "        # Start at the head\n",
    "        current_node = self.head\n",
    "        # Iterate as long as current node is not None\n",
    "        while current_node != None:\n",
    "            # Print the data of the node\n",
    "            print(current_node.data)\n",
    "            # Move to next element\n",
    "            current_node = current_node.next\n",
    "        print(None)\n",
    "            \n",
    "    def append(self, data):\n",
    "        node = Node(data, None)\n",
    "        # Handle the empty case\n",
    "        if self.head is None:\n",
    "            self.head = node\n",
    "            self.tail = node\n",
    "        else:\n",
    "            # Otherwise set a new next for the tail and set a new tail\n",
    "            self.tail.next = node\n",
    "        self.tail = node\n",
    "            \n",
    "    def remove(self, node_value):\n",
    "        # Tracking a current and previous node\n",
    "        current_node = self.head\n",
    "        previous_node = None\n",
    "        # Iterate through list to find value to remove\n",
    "        while current_node != None:\n",
    "            if current_node.data == node_value:\n",
    "                if previous_node is not None:\n",
    "                    previous_node.next = current_node.next\n",
    "                else:\n",
    "                    # Handle edge case\n",
    "                    self.head = current_node.next\n",
    "            # Keep track of previous nodes to repair list after removal\n",
    "            previous_node = current_node\n",
    "            current_node = current_node.next\n",
    "            \n",
    "    # Insert is a permutation of remove\n",
    "    def insert(self, value, at):\n",
    "        current_node = self.head\n",
    "        new_node = Node(value)\n",
    "        # Iterate to find value to insert after\n",
    "        while current_node != None:\n",
    "            if current_node.data == at:\n",
    "                if current_node is not None:\n",
    "                    new_node.next = current_node.next\n",
    "                    current_node.next = new_node\n",
    "                else:\n",
    "                    # Handle edge case\n",
    "                    self.tail = current_node.next\n",
    "                        \n",
    "            # Move to the next node\n",
    "            current_node = current_node.next"
   ]
  },
  {
   "cell_type": "code",
   "execution_count": 20,
   "metadata": {},
   "outputs": [
    {
     "name": "stdout",
     "output_type": "stream",
     "text": [
      "List Values:\n",
      "1\n",
      "2\n",
      "3\n",
      "4\n",
      "None\n"
     ]
    }
   ],
   "source": [
    "# Test append\n",
    "s = LinkedList()\n",
    "s.append(1)\n",
    "s.append(2)\n",
    "s.append(3)\n",
    "s.append(4)\n",
    "s.print_list()"
   ]
  },
  {
   "cell_type": "code",
   "execution_count": 21,
   "metadata": {},
   "outputs": [
    {
     "name": "stdout",
     "output_type": "stream",
     "text": [
      "List Values:\n",
      "1\n",
      "100\n",
      "4\n",
      "None\n"
     ]
    }
   ],
   "source": [
    "# Test remove & insert\n",
    "s.remove(3)\n",
    "s.remove(2)\n",
    "s.insert(100, at=1)\n",
    "\n",
    "s.print_list()"
   ]
  },
  {
   "cell_type": "markdown",
   "metadata": {},
   "source": [
    "### Queue\n",
    "**Queue**: single linked list where items only come in at one end and leave at the other\n",
    "- Enqueing: entering the queue, items get linked to the last element of the list\n",
    "- Dequeing: removing from queue, only remove from the front of the line\n",
    "- O(1) efficiency: optimal data structure for managing queue\n",
    "- Accessing/searching are both O(n)\n",
    "\n",
    "### Stack\n",
    "**LIFO queue**: linked list where items are only added/removed from one end\n",
    "- Accessing an element further down the queue requires removing preceding elements\n",
    "- Useful for certain situations, but not ideal for most\n",
    "\n",
    "### Further resources\n",
    "[Interactive Python](https://interactivepython.org/runestone/static/pythonds/index.html)\n",
    "\n",
    "[Python School](https://pythonschool.net/category/data-structures-algorithms.html)\n",
    "\n",
    "[Tutorial on Complexity](http://discrete.gr/complexity/)"
   ]
  },
  {
   "cell_type": "code",
   "execution_count": null,
   "metadata": {},
   "outputs": [],
   "source": []
  }
 ],
 "metadata": {
  "kernelspec": {
   "display_name": "Python 3",
   "language": "python",
   "name": "python3"
  },
  "language_info": {
   "codemirror_mode": {
    "name": "ipython",
    "version": 3
   },
   "file_extension": ".py",
   "mimetype": "text/x-python",
   "name": "python",
   "nbconvert_exporter": "python",
   "pygments_lexer": "ipython3",
   "version": "3.6.5"
  }
 },
 "nbformat": 4,
 "nbformat_minor": 2
}
