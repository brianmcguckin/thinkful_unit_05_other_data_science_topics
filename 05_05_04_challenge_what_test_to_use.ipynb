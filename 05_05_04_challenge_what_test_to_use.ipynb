{
 "cells": [
  {
   "cell_type": "markdown",
   "metadata": {},
   "source": [
    "## Challenge: what test to use\n",
    "Use the [European Social Survey](http://www.europeansocialsurvey.org/data/round-index.html) to address the following questions. The same participants answered questions in 2012 and again in 2014.\n",
    "\n",
    "[Raw data](https://raw.githubusercontent.com/Thinkful-Ed/data-201-resources/master/ESS_practice_data/ESSdata_Thinkful.csv)\n",
    "\n",
    "[Variable coding and content](https://thinkful-ed.github.io/data-201-resources/ESS_practice_data/ESS_codebook.html)"
   ]
  },
  {
   "cell_type": "code",
   "execution_count": 1,
   "metadata": {},
   "outputs": [],
   "source": [
    "import pandas as pd\n",
    "import numpy as np\n",
    "import matplotlib.pyplot as plt\n",
    "import seaborn as sns\n",
    "import scipy.stats as stats\n",
    "%matplotlib inline\n",
    "import warnings\n",
    "warnings.filterwarnings('ignore')"
   ]
  },
  {
   "cell_type": "code",
   "execution_count": 2,
   "metadata": {},
   "outputs": [
    {
     "data": {
      "text/html": [
       "<div>\n",
       "<style scoped>\n",
       "    .dataframe tbody tr th:only-of-type {\n",
       "        vertical-align: middle;\n",
       "    }\n",
       "\n",
       "    .dataframe tbody tr th {\n",
       "        vertical-align: top;\n",
       "    }\n",
       "\n",
       "    .dataframe thead th {\n",
       "        text-align: right;\n",
       "    }\n",
       "</style>\n",
       "<table border=\"1\" class=\"dataframe\">\n",
       "  <thead>\n",
       "    <tr style=\"text-align: right;\">\n",
       "      <th></th>\n",
       "      <th>cntry</th>\n",
       "      <th>idno</th>\n",
       "      <th>year</th>\n",
       "      <th>tvtot</th>\n",
       "      <th>ppltrst</th>\n",
       "      <th>pplfair</th>\n",
       "      <th>pplhlp</th>\n",
       "      <th>happy</th>\n",
       "      <th>sclmeet</th>\n",
       "      <th>sclact</th>\n",
       "      <th>gndr</th>\n",
       "      <th>agea</th>\n",
       "      <th>partner</th>\n",
       "    </tr>\n",
       "  </thead>\n",
       "  <tbody>\n",
       "    <tr>\n",
       "      <th>0</th>\n",
       "      <td>CH</td>\n",
       "      <td>5.0</td>\n",
       "      <td>6</td>\n",
       "      <td>3.0</td>\n",
       "      <td>3.0</td>\n",
       "      <td>10.0</td>\n",
       "      <td>5.0</td>\n",
       "      <td>8.0</td>\n",
       "      <td>5.0</td>\n",
       "      <td>4.0</td>\n",
       "      <td>2.0</td>\n",
       "      <td>60.0</td>\n",
       "      <td>1.0</td>\n",
       "    </tr>\n",
       "    <tr>\n",
       "      <th>1</th>\n",
       "      <td>CH</td>\n",
       "      <td>25.0</td>\n",
       "      <td>6</td>\n",
       "      <td>6.0</td>\n",
       "      <td>5.0</td>\n",
       "      <td>7.0</td>\n",
       "      <td>5.0</td>\n",
       "      <td>9.0</td>\n",
       "      <td>3.0</td>\n",
       "      <td>2.0</td>\n",
       "      <td>2.0</td>\n",
       "      <td>59.0</td>\n",
       "      <td>1.0</td>\n",
       "    </tr>\n",
       "    <tr>\n",
       "      <th>2</th>\n",
       "      <td>CH</td>\n",
       "      <td>26.0</td>\n",
       "      <td>6</td>\n",
       "      <td>1.0</td>\n",
       "      <td>8.0</td>\n",
       "      <td>8.0</td>\n",
       "      <td>8.0</td>\n",
       "      <td>7.0</td>\n",
       "      <td>6.0</td>\n",
       "      <td>3.0</td>\n",
       "      <td>1.0</td>\n",
       "      <td>24.0</td>\n",
       "      <td>2.0</td>\n",
       "    </tr>\n",
       "    <tr>\n",
       "      <th>3</th>\n",
       "      <td>CH</td>\n",
       "      <td>28.0</td>\n",
       "      <td>6</td>\n",
       "      <td>4.0</td>\n",
       "      <td>6.0</td>\n",
       "      <td>6.0</td>\n",
       "      <td>7.0</td>\n",
       "      <td>10.0</td>\n",
       "      <td>6.0</td>\n",
       "      <td>2.0</td>\n",
       "      <td>2.0</td>\n",
       "      <td>64.0</td>\n",
       "      <td>1.0</td>\n",
       "    </tr>\n",
       "    <tr>\n",
       "      <th>4</th>\n",
       "      <td>CH</td>\n",
       "      <td>29.0</td>\n",
       "      <td>6</td>\n",
       "      <td>5.0</td>\n",
       "      <td>6.0</td>\n",
       "      <td>7.0</td>\n",
       "      <td>5.0</td>\n",
       "      <td>8.0</td>\n",
       "      <td>7.0</td>\n",
       "      <td>2.0</td>\n",
       "      <td>2.0</td>\n",
       "      <td>55.0</td>\n",
       "      <td>1.0</td>\n",
       "    </tr>\n",
       "  </tbody>\n",
       "</table>\n",
       "</div>"
      ],
      "text/plain": [
       "  cntry  idno  year  tvtot  ppltrst  pplfair  pplhlp  happy  sclmeet  sclact  \\\n",
       "0    CH   5.0     6    3.0      3.0     10.0     5.0    8.0      5.0     4.0   \n",
       "1    CH  25.0     6    6.0      5.0      7.0     5.0    9.0      3.0     2.0   \n",
       "2    CH  26.0     6    1.0      8.0      8.0     8.0    7.0      6.0     3.0   \n",
       "3    CH  28.0     6    4.0      6.0      6.0     7.0   10.0      6.0     2.0   \n",
       "4    CH  29.0     6    5.0      6.0      7.0     5.0    8.0      7.0     2.0   \n",
       "\n",
       "   gndr  agea  partner  \n",
       "0   2.0  60.0      1.0  \n",
       "1   2.0  59.0      1.0  \n",
       "2   1.0  24.0      2.0  \n",
       "3   2.0  64.0      1.0  \n",
       "4   2.0  55.0      1.0  "
      ]
     },
     "execution_count": 2,
     "metadata": {},
     "output_type": "execute_result"
    }
   ],
   "source": [
    "path = 'https://raw.githubusercontent.com/Thinkful-Ed/data-201-resources/master/ESS_practice_data/ESSdata_Thinkful.csv'\n",
    "df = pd.read_csv(path)\n",
    "df.head()"
   ]
  },
  {
   "cell_type": "markdown",
   "metadata": {},
   "source": [
    "### 1. Did people become less trusting from 2012 to 2014? Compute results for each country in the sample"
   ]
  },
  {
   "cell_type": "code",
   "execution_count": 3,
   "metadata": {},
   "outputs": [
    {
     "name": "stdout",
     "output_type": "stream",
     "text": [
      "ES    2426\n",
      "SE    1816\n",
      "CH    1546\n",
      "NO    1462\n",
      "CZ    1316\n",
      "DE      28\n",
      "Name: cntry, dtype: int64\n"
     ]
    }
   ],
   "source": [
    "print(df['cntry'].value_counts())"
   ]
  },
  {
   "cell_type": "code",
   "execution_count": 4,
   "metadata": {
    "scrolled": false
   },
   "outputs": [],
   "source": [
    "def ess_hist(self):\n",
    "    g = sns.FacetGrid(data=df,\n",
    "                      row='year',\n",
    "                      col='cntry',\n",
    "                      margin_titles=True,\n",
    "                      dropna=True,\n",
    "                      sharey=False)\n",
    "\n",
    "    g.map(plt.hist, self)\n",
    "    plt.show()\n",
    "\n",
    "def ess_normaltest(self):\n",
    "    for cntry in df['cntry'].unique():\n",
    "        x = df.loc[(df['year'] == 6) & (df['cntry'] == cntry), self]\n",
    "        y = df.loc[(df['year'] == 7) & (df['cntry'] == cntry), self]\n",
    "        print('normal test {}'.format(cntry))\n",
    "        print('2012: {}'.format(stats.normaltest(x, nan_policy='omit')))\n",
    "        print('2014: {}'.format(stats.normaltest(y, nan_policy='omit')))"
   ]
  },
  {
   "cell_type": "code",
   "execution_count": 5,
   "metadata": {},
   "outputs": [
    {
     "data": {
      "image/png": "[encoded data removed]",
      "text/plain": [
       "<Figure size 1296x432 with 12 Axes>"
      ]
     },
     "metadata": {},
     "output_type": "display_data"
    }
   ],
   "source": [
    "ess_hist('ppltrst')"
   ]
  },
  {
   "cell_type": "code",
   "execution_count": 6,
   "metadata": {},
   "outputs": [
    {
     "name": "stdout",
     "output_type": "stream",
     "text": [
      "normal test CH\n",
      "2012: NormaltestResult(statistic=34.41403485540727, pvalue=3.365792056559453e-08)\n",
      "2014: NormaltestResult(statistic=32.07122389622901, pvalue=1.0859809748932778e-07)\n",
      "normal test CZ\n",
      "2012: NormaltestResult(statistic=25.049370820773337, pvalue=3.6357853778444874e-06)\n",
      "2014: NormaltestResult(statistic=8.015640651166011, pvalue=0.0181729632415102)\n",
      "normal test DE\n",
      "2012: NormaltestResult(statistic=0.5537028123495471, pvalue=0.7581671476973477)\n",
      "2014: NormaltestResult(statistic=0.6451892229565249, pvalue=0.7242674045554323)\n",
      "normal test ES\n",
      "2012: NormaltestResult(statistic=48.02764152552339, pvalue=3.7233182008430934e-11)\n",
      "2014: NormaltestResult(statistic=29.796593978669407, pvalue=3.3865058313913864e-07)\n",
      "normal test NO\n",
      "2012: NormaltestResult(statistic=85.4862970000314, pvalue=2.7345537691839186e-19)\n",
      "2014: NormaltestResult(statistic=71.2109329693447, pvalue=3.441457258129768e-16)\n",
      "normal test SE\n",
      "2012: NormaltestResult(statistic=72.6342910118729, pvalue=1.6891340175735596e-16)\n",
      "2014: NormaltestResult(statistic=66.17133174781476, pvalue=4.276395667350845e-15)\n"
     ]
    }
   ],
   "source": [
    "ess_normaltest('ppltrst')"
   ]
  },
  {
   "cell_type": "code",
   "execution_count": 7,
   "metadata": {},
   "outputs": [
    {
     "name": "stdout",
     "output_type": "stream",
     "text": [
      "\n",
      "Trust results for CH\n",
      "Mean 2012: 5.677878395860285\n",
      "Mean 2014: 5.751617076326003\n",
      "WilcoxonResult(statistic=106278.5, pvalue=0.4411286510952477)\n",
      "\n",
      "Trust results for CZ\n",
      "Mean 2012: 4.362519201228879\n",
      "Mean 2014: 4.424657534246576\n",
      "WilcoxonResult(statistic=82837.0, pvalue=0.2931891426327379)\n",
      "\n",
      "Trust results for DE\n",
      "Mean 2012: 5.214285714285714\n",
      "Mean 2014: 5.357142857142857\n",
      "WilcoxonResult(statistic=44.0, pvalue=0.9157134600899863)\n",
      "Ttest_relResult(statistic=-0.18399501804849683, pvalue=0.8568563797095805)\n",
      "\n",
      "Trust results for ES\n",
      "Mean 2012: 5.114591920857379\n",
      "Mean 2014: 4.895127993393889\n",
      "WilcoxonResult(statistic=243475.5, pvalue=0.005570829650439684)\n",
      "\n",
      "Trust results for NO\n",
      "Mean 2012: 6.64931506849315\n",
      "Mean 2014: 6.598630136986301\n",
      "WilcoxonResult(statistic=85392.0, pvalue=0.6139175669970661)\n",
      "\n",
      "Trust results for SE\n",
      "Mean 2012: 6.058498896247241\n",
      "Mean 2014: 6.257709251101321\n",
      "WilcoxonResult(statistic=130719.5, pvalue=0.028545290985536906)\n"
     ]
    }
   ],
   "source": [
    "# non-normal distributions (except DE but small sample size...)\n",
    "# use wilcoxon ranked for a/b where participants did both versions\n",
    "for cntry in df['cntry'].unique():\n",
    "    x = df.loc[(df['year'] == 6) & (df['cntry'] == cntry), 'ppltrst']\n",
    "    y = df.loc[(df['year'] == 7) & (df['cntry'] == cntry), 'ppltrst']\n",
    "    result = stats.wilcoxon(x,y)\n",
    "    print('\\nTrust results for {}'.format(cntry))\n",
    "    print('Mean 2012: {}'.format(np.mean(x)))\n",
    "    print('Mean 2014: {}'.format(np.mean(y)))\n",
    "    print(result)\n",
    "    if cntry == 'DE':\n",
    "        print(stats.ttest_rel(x, y, nan_policy='omit'))"
   ]
  },
  {
   "cell_type": "markdown",
   "metadata": {},
   "source": [
    "**Results**: given the range of answers 0-10 of H values between ~82xxx and ~243xxxx\n",
    "- Significant change\n",
    "    - ES (Spain): significant decrease in trust, mean went down about .2\n",
    "    - SE (Sweden): significant increase in trust, mean went up about .2\n",
    "\n",
    "\n",
    "- No significant change\n",
    "    - CH (Switzerland): non significant pval = .44\n",
    "    - CZ (Czech Republic): non significant pval = .29\n",
    "    - DE (Denmark):  non significant pval = .91, .85\n",
    "    - NO (Norway): non significant pval = .61"
   ]
  },
  {
   "cell_type": "markdown",
   "metadata": {},
   "source": [
    "### 2. Did people become happier from 2012 to 2014? Compute results for each country in the sample"
   ]
  },
  {
   "cell_type": "code",
   "execution_count": 8,
   "metadata": {},
   "outputs": [
    {
     "data": {
      "image/png": "[encoded data removed]",
      "text/plain": [
       "<Figure size 1296x432 with 12 Axes>"
      ]
     },
     "metadata": {},
     "output_type": "display_data"
    }
   ],
   "source": [
    "ess_hist('happy')"
   ]
  },
  {
   "cell_type": "code",
   "execution_count": 9,
   "metadata": {},
   "outputs": [
    {
     "name": "stdout",
     "output_type": "stream",
     "text": [
      "normal test CH\n",
      "2012: NormaltestResult(statistic=188.44583258657116, pvalue=1.2009014936632828e-41)\n",
      "2014: NormaltestResult(statistic=156.83716655039797, pvalue=8.774896545471838e-35)\n",
      "normal test CZ\n",
      "2012: NormaltestResult(statistic=33.31170486577394, pvalue=5.840569510842764e-08)\n",
      "2014: NormaltestResult(statistic=41.51459060672008, pvalue=9.665430236613688e-10)\n",
      "normal test DE\n",
      "2012: NormaltestResult(statistic=1.506462655423323, pvalue=0.4708426450576315)\n",
      "2014: NormaltestResult(statistic=2.1782905366822414, pvalue=0.33650399143734494)\n",
      "normal test ES\n",
      "2012: NormaltestResult(statistic=211.81535847203477, pvalue=1.0112983918145527e-46)\n",
      "2014: NormaltestResult(statistic=196.39100576911136, pvalue=2.260658435940068e-43)\n",
      "normal test NO\n",
      "2012: NormaltestResult(statistic=228.52086537729167, pvalue=2.38410063518236e-50)\n",
      "2014: NormaltestResult(statistic=182.17416218051966, pvalue=2.7630154274213406e-40)\n",
      "normal test SE\n",
      "2012: NormaltestResult(statistic=142.6192698491184, pvalue=1.0730477437761676e-31)\n",
      "2014: NormaltestResult(statistic=88.99061407595354, pvalue=4.7416957358270756e-20)\n"
     ]
    }
   ],
   "source": [
    "ess_normaltest('happy')"
   ]
  },
  {
   "cell_type": "code",
   "execution_count": 10,
   "metadata": {},
   "outputs": [
    {
     "name": "stdout",
     "output_type": "stream",
     "text": [
      "\n",
      "Happy results for CH\n",
      "Mean 2012: 8.088311688311688\n",
      "Mean 2014: 8.116429495472186\n",
      "WilcoxonResult(statistic=92816.5, pvalue=0.8208688161425343)\n",
      "\n",
      "Happy results for CZ\n",
      "Mean 2012: 6.7708978328173375\n",
      "Mean 2014: 6.914110429447852\n",
      "WilcoxonResult(statistic=73213.0, pvalue=0.01064243454053068)\n",
      "\n",
      "Happy results for DE\n",
      "Mean 2012: 7.428571428571429\n",
      "Mean 2014: 7.857142857142857\n",
      "WilcoxonResult(statistic=23.5, pvalue=0.393351316918508)\n",
      "Ttest_relResult(statistic=-0.8062257748298549, pvalue=0.4346138707734991)\n",
      "\n",
      "Happy results for ES\n",
      "Mean 2012: 7.548679867986799\n",
      "Mean 2014: 7.41996699669967\n",
      "WilcoxonResult(statistic=231958.5, pvalue=0.04923868084306013)\n",
      "\n",
      "Happy results for NO\n",
      "Mean 2012: 8.25171939477304\n",
      "Mean 2014: 7.9151846785225715\n",
      "WilcoxonResult(statistic=67571.5, pvalue=2.7264367804254175e-06)\n",
      "\n",
      "Happy results for SE\n",
      "Mean 2012: 7.907386990077177\n",
      "Mean 2014: 7.946961325966851\n",
      "WilcoxonResult(statistic=125481.0, pvalue=0.5136403441005022)\n"
     ]
    }
   ],
   "source": [
    "# non normal dists so non parametric\n",
    "# wilcoxon signed-rank for a/b test where participants did both versions\n",
    "for cntry in df['cntry'].unique():\n",
    "    x = df.loc[(df['year'] == 6) & (df['cntry'] == cntry), 'happy']\n",
    "    y = df.loc[(df['year'] == 7) & (df['cntry'] == cntry), 'happy']\n",
    "    result = stats.wilcoxon(x, y)\n",
    "    print('\\nHappy results for {}'.format(cntry))\n",
    "    print('Mean 2012: {}'.format(np.mean(x)))\n",
    "    print('Mean 2014: {}'.format(np.mean(y)))\n",
    "    print(result)\n",
    "    if cntry == 'DE':\n",
    "        print(stats.ttest_rel(x, y, nan_policy='omit'))"
   ]
  },
  {
   "cell_type": "markdown",
   "metadata": {},
   "source": [
    "**Results**: given the range of answers 0-10 of H values between 23.5 and ~23xxxx\n",
    "- Significant change\n",
    "    - CZ (Czech Republic): significant increase in happiness, mean is up .2 p val .01\n",
    "\n",
    "\n",
    "- Borderline\n",
    "    - ES (Spain): pval is .49 so technically this could be interpreted as a significant decrease in happiness (mean down ~ .13)\n",
    "\n",
    "\n",
    "- No significant change\n",
    "    - CH (Switzerland): non significant pval = .44\n",
    "    - DE (Denmark):  non significant pval = .91, .85\n",
    "    - NO (Norway): non significant pval = .61\n",
    "    - SE (Sweden): non significant pval = .51"
   ]
  },
  {
   "cell_type": "markdown",
   "metadata": {},
   "source": [
    "## 3. Who reported watching more TV in 2012, men or women?"
   ]
  },
  {
   "cell_type": "code",
   "execution_count": 11,
   "metadata": {},
   "outputs": [
    {
     "name": "stdout",
     "output_type": "stream",
     "text": [
      "2154\n",
      "2143\n"
     ]
    }
   ],
   "source": [
    "print(len(df.loc[(df['year'] == 6) & (df['gndr'] == 1), 'tvtot']))\n",
    "print(len(df.loc[(df['year'] == 6) & (df['gndr'] == 2), 'tvtot']))"
   ]
  },
  {
   "cell_type": "code",
   "execution_count": 12,
   "metadata": {},
   "outputs": [
    {
     "data": {
      "image/png": "[encoded data removed]",
      "text/plain": [
       "<Figure size 432x288 with 2 Axes>"
      ]
     },
     "metadata": {},
     "output_type": "display_data"
    },
    {
     "name": "stdout",
     "output_type": "stream",
     "text": [
      "NormaltestResult(statistic=406.3538359496158, pvalue=5.77278885975393e-89)\n",
      "NormaltestResult(statistic=473.95970583307366, pvalue=1.2049181771413786e-103)\n",
      "WilcoxonResult(statistic=837476.5, pvalue=0.6494779609600911)\n"
     ]
    }
   ],
   "source": [
    "tv_women_2012 = df.loc[(df['year'] == 6) & (df['gndr'] == 2), 'tvtot'].dropna()\n",
    "tv_men_2012 = df.loc[\n",
    "    (df['year'] == 6) & (df['gndr'] == 1), 'tvtot'\n",
    "].dropna().sample(len(tv_women_2012))\n",
    "\n",
    "plt.subplot(1,2,1)\n",
    "plt.hist(tv_men_2012.dropna())\n",
    "plt.title('tv men')\n",
    "         \n",
    "plt.subplot(1,2,2)\n",
    "plt.hist(tv_women_2012.dropna())\n",
    "plt.title('tv women')\n",
    "plt.show()\n",
    "\n",
    "print(stats.normaltest(tv_men_2012))\n",
    "print(stats.normaltest(tv_women_2012))\n",
    "print(stats.wilcoxon(tv_men_2012, tv_women_2012))"
   ]
  },
  {
   "cell_type": "markdown",
   "metadata": {},
   "source": [
    "**Result**: with a pval of .326 we can't confidently conclude there was a significant difference in the amount of tv men and women watched in 2012"
   ]
  },
  {
   "cell_type": "markdown",
   "metadata": {},
   "source": [
    "## 4. Who was more likely to believe people were fair in 2012, people living with a partner or people living alone?"
   ]
  },
  {
   "cell_type": "code",
   "execution_count": 13,
   "metadata": {},
   "outputs": [
    {
     "name": "stdout",
     "output_type": "stream",
     "text": [
      "2663 1608\n"
     ]
    }
   ],
   "source": [
    "# 1 live w partner 2 live alone\n",
    "live_partner = df.loc[(df['partner'] == 1) & (df['year'] == 6), 'pplfair'].dropna()\n",
    "live_alone = df.loc[(df['partner'] == 2) & (df['year'] == 6), 'pplfair'].dropna()\n",
    "\n",
    "print(len(live_partner), len(live_alone))"
   ]
  },
  {
   "cell_type": "code",
   "execution_count": 14,
   "metadata": {},
   "outputs": [],
   "source": [
    "live_partner = live_partner.sample(len(live_alone))"
   ]
  },
  {
   "cell_type": "code",
   "execution_count": 15,
   "metadata": {},
   "outputs": [
    {
     "data": {
      "image/png": "[encoded data removed]",
      "text/plain": [
       "<Figure size 432x288 with 2 Axes>"
      ]
     },
     "metadata": {},
     "output_type": "display_data"
    },
    {
     "name": "stdout",
     "output_type": "stream",
     "text": [
      "NormaltestResult(statistic=103.94030547579145, pvalue=2.689363103190348e-23)\n",
      "NormaltestResult(statistic=64.92830332216809, pvalue=7.961558194894824e-15)\n"
     ]
    }
   ],
   "source": [
    "plt.subplot(1,2,1)\n",
    "plt.hist(live_partner)\n",
    "plt.title('live with partner')\n",
    "\n",
    "plt.subplot(1,2,2)\n",
    "plt.hist(live_alone)\n",
    "plt.title('live alone')\n",
    "plt.show()\n",
    "\n",
    "print(stats.normaltest(live_partner))\n",
    "print(stats.normaltest(live_alone))"
   ]
  },
  {
   "cell_type": "code",
   "execution_count": 16,
   "metadata": {},
   "outputs": [
    {
     "name": "stdout",
     "output_type": "stream",
     "text": [
      "mean live with partner: 6.123756218905473\n",
      "mean live alone: 5.856965174129353\n",
      "WilcoxonResult(statistic=427260.0, pvalue=0.0001626075887758999)\n"
     ]
    }
   ],
   "source": [
    "print('mean live with partner: {}'.format(np.mean(live_partner)))\n",
    "print('mean live alone: {}'.format(np.mean(live_alone)))\n",
    "print(stats.wilcoxon(live_partner, live_alone))"
   ]
  },
  {
   "cell_type": "markdown",
   "metadata": {},
   "source": [
    "**Results**: can say with confidence that those who lived alone in 2012 thought people were less trustworthy than people who lived with a partner"
   ]
  },
  {
   "cell_type": "markdown",
   "metadata": {},
   "source": [
    "## 5. Pick three or four of the countries in the sample and compare how often people met socially in 2014. Are there differences, and if so, which countries stand out?"
   ]
  },
  {
   "cell_type": "code",
   "execution_count": 17,
   "metadata": {},
   "outputs": [
    {
     "name": "stdout",
     "output_type": "stream",
     "text": [
      "['SE' 'CH' 'ES' 'NO']\n"
     ]
    },
    {
     "data": {
      "image/png": "[encoded data removed]",
      "text/plain": [
       "<Figure size 864x216 with 4 Axes>"
      ]
     },
     "metadata": {},
     "output_type": "display_data"
    },
    {
     "name": "stdout",
     "output_type": "stream",
     "text": [
      "SE: NormaltestResult(statistic=145.63772426391498, pvalue=2.3723021236027454e-32)\n",
      "CH: NormaltestResult(statistic=98.88952667427156, pvalue=3.3605636360566126e-22)\n",
      "ES: NormaltestResult(statistic=207.30963817201416, pvalue=9.622414221022273e-46)\n",
      "NO: NormaltestResult(statistic=117.20984403812162, pvalue=3.533505362569494e-26)\n"
     ]
    }
   ],
   "source": [
    "# randomly choose 4 countries\n",
    "countries = np.random.choice(\n",
    "    df.loc[df['cntry'] != 'DE', 'cntry'].unique(),\n",
    "    4,\n",
    "    replace=False\n",
    ")\n",
    "print(countries)\n",
    "\n",
    "df_countries = df[(df.cntry).isin(countries) & (df.year == 7)]\n",
    "g = sns.FacetGrid(df_countries,\n",
    "                  col='cntry',\n",
    "                  dropna=True,\n",
    "                  sharey=False)\n",
    "g.map(plt.hist, 'sclmeet')\n",
    "plt.show()\n",
    "\n",
    "for cntry in countries:\n",
    "    print('{}: {}'.format(\n",
    "        cntry,\n",
    "        stats.stats.normaltest(df.loc[df['cntry'] == cntry, 'sclmeet'],\n",
    "                               nan_policy='omit')))"
   ]
  },
  {
   "cell_type": "code",
   "execution_count": 18,
   "metadata": {},
   "outputs": [
    {
     "name": "stdout",
     "output_type": "stream",
     "text": [
      "SE and CH: WilcoxonResult(statistic=73179.0, pvalue=8.416117658146773e-05)\n",
      "SE and ES: WilcoxonResult(statistic=109996.5, pvalue=0.02271773734887463)\n",
      "SE and NO: WilcoxonResult(statistic=68747.5, pvalue=0.08887271864994711)\n",
      "CH and ES: WilcoxonResult(statistic=77420.5, pvalue=0.020151490320276386)\n",
      "CH and NO: WilcoxonResult(statistic=67814.0, pvalue=0.05066277733174157)\n",
      "ES and NO: WilcoxonResult(statistic=74563.5, pvalue=0.4890146248476759)\n"
     ]
    }
   ],
   "source": [
    "import itertools\n",
    "cntry_pairs = list(itertools.combinations(countries, 2))\n",
    "\n",
    "for pair in cntry_pairs:\n",
    "    x = df_countries.loc[df_countries['cntry'] == pair[0], 'sclmeet']\n",
    "    y = df_countries.loc[df_countries['cntry'] == pair[1], 'sclmeet']\n",
    "    if len(x) < len(y):\n",
    "        y = y.sample(len(x))\n",
    "        result = stats.wilcoxon(x,y)\n",
    "    elif len(y) < len(x):\n",
    "        x = x.sample(len(y))\n",
    "        result = stats.wilcoxon(x,y)\n",
    "    else:\n",
    "        result = stats.wilcoxon(x,y)\n",
    "    print('{0} and {1}: {2}'.format(pair[0], pair[1], result))"
   ]
  },
  {
   "cell_type": "markdown",
   "metadata": {},
   "source": [
    "## 6. Pick three or four of the countries in the sample and compare how often people took part in social activities, relative to others their age, in 2014. Are there differences, and if so, which countries stand out?"
   ]
  },
  {
   "cell_type": "code",
   "execution_count": 19,
   "metadata": {},
   "outputs": [],
   "source": [
    "# agea vs sclmeet"
   ]
  }
 ],
 "metadata": {
  "kernelspec": {
   "display_name": "Python 3",
   "language": "python",
   "name": "python3"
  },
  "language_info": {
   "codemirror_mode": {
    "name": "ipython",
    "version": 3
   },
   "file_extension": ".py",
   "mimetype": "text/x-python",
   "name": "python",
   "nbconvert_exporter": "python",
   "pygments_lexer": "ipython3",
   "version": "3.6.5"
  }
 },
 "nbformat": 4,
 "nbformat_minor": 2
}
