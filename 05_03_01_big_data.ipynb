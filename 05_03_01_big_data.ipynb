{
 "cells": [
  {
   "cell_type": "markdown",
   "metadata": {},
   "source": [
    "## Big Data\n",
    "### How big is big data\n",
    "- Rule of thumb: the more experience someone has working with data/modern techniques, the larger a dataset has to be to qualify as 'big data'\n",
    "- **Big data** for our purposes is data that is too large to work with on a local machine\n",
    "    - Not to mean databases that are too large to clone to a local machine\n",
    "    - Rather, the only the data desired to work with from database is too large to work with locally\n",
    "- At least gigabtyes of data:\n",
    "    - Gigabytes: millions of rows\n",
    "    - Terabytes: billions of rows\n",
    "    - Petabytes/exabytes: most likely require specialized machines\n",
    "### Issues of big data\n",
    "- Accessing big data: methods previously used won't work, including single job sql\n",
    "- Data science vs. data engineering: not all companies (esp. smaller ones) differentiates these the same way or at all\n",
    "    - Engineering covers designing a storage system\n",
    "    - Science is concerned with accessing, manipulating, analyzing, and interpreting\n",
    "- Understanding big data: visualization and summary statistics still apply, but implementing them can change\n",
    "    - Outliers: could be thousands or more, not just a few\n",
    "    - Visualization: keep in mind...\n",
    "        - Visualizations are simplifications, they inherently gloss over some data\n",
    "        - Analysis is potentially more impacted as the amount of 'missed' data increases\n",
    "- Training: there are huge advantages to training models on big data\n",
    "    - Some models (eg NNs) require large amounts of data to perform well\n",
    "    - But:\n",
    "        - Can't work with data locally\n",
    "        - May be too slow to work with all at once for modeling purposes\n",
    "        - Need to have methods for efficiently working with big data"
   ]
  },
  {
   "cell_type": "code",
   "execution_count": null,
   "metadata": {},
   "outputs": [],
   "source": []
  }
 ],
 "metadata": {
  "kernelspec": {
   "display_name": "Python 3",
   "language": "python",
   "name": "python3"
  },
  "language_info": {
   "codemirror_mode": {
    "name": "ipython",
    "version": 3
   },
   "file_extension": ".py",
   "mimetype": "text/x-python",
   "name": "python",
   "nbconvert_exporter": "python",
   "pygments_lexer": "ipython3",
   "version": "3.6.5"
  }
 },
 "nbformat": 4,
 "nbformat_minor": 2
}
