{
 "cells": [
  {
   "cell_type": "markdown",
   "metadata": {},
   "source": [
    "## Anatomy of an API\n",
    "**API**: Application programming interface\n",
    "- Most 'big' sites (Twitter, Google, etc) have APIs to access their information\n",
    "    - Allows access to information without using webpages\n",
    "    - Can as the server to send only the specific information desired\n",
    "    - Speeds up scraping as well as minimizes server demand\n",
    "    - Typically includes throttling by limiting number of server requests per hour\n",
    "- Access: request a key that program provides with each API call\n",
    "    - API key (or token) uniquely identifies you\n",
    "    - Lets the API provider monitor your usage\n",
    "    - Security measure:keys can have different levels of authorization/access\n",
    "    - Can be set to expire after a certain amount of time or number of uses\n",
    "- Requests: program requests the data with a call to the API, including...\n",
    "    - Method: type of query made using language defined by the API\n",
    "    - Parameters: refine the query\n",
    "- Response: data returned by API, typically in a common format like json\n",
    "\n",
    "### Basics of API Queries: Wikipedia's API\n",
    "- Wikipedia's API doesn't require an authorization key\n",
    "    - When required, since scrapy can handle authorization so it can be used to access APIs\n",
    "- Goal: use [Wikipedia's API](https://www.mediawiki.org/wiki/API:Main_page) to get what other entries on Wikipedia link to the Monty Python page\n",
    "    - To do this by scraping, would have to scrape every single page on Wikipedia (very inefficient)\n",
    "    - To accomplish this, can build a query using the [Wikipedia API Sandbox](https://en.wikipedia.org/wiki/Special:ApiSandbox)\n",
    "    - Query is: `https://en.wikipedia.org/\n",
    "    w/api.phpaction=query&format=xml&prop=linkshere&titles=Monty_Python&lhprop=title%7Credirect`\n",
    "    - Broken down:\n",
    "        - `w/api.php`: tells the server we are using an API rather than scraping raw pages\n",
    "        - `action=query`: want information from the API (as opposed to changing information in the API)\n",
    "        - `format=xml`: return format in xml, then we will parse with xpath\n",
    "        - `prop=linkshere`: we are interested in which pages link to target page\n",
    "        - `titles=Monty_Python`: setting target page using exact page name\n",
    "        - `lhprop=title`: from those links, want the title of each page\n",
    "        - `redirect`: also want to know if the link is a redirect\n",
    "        \n",
    "### Using Scrapy for API calls\n",
    "- If query can be answered in one response, scrapy is overkill\n",
    "    - Can just use requests library to make call and library like lxml to parse the return\n",
    "- Wikipedia's API will only return ten items at a time in response to a query (to avoid overwhelming the server)\n",
    "- Can use scrapy to iterate over query results (same way iterate over pages when scraping)"
   ]
  },
  {
   "cell_type": "code",
   "execution_count": 1,
   "metadata": {},
   "outputs": [
    {
     "name": "stdout",
     "output_type": "stream",
     "text": [
      "First 100 links extracted!\n"
     ]
    }
   ],
   "source": [
    "import scrapy\n",
    "from scrapy.crawler import CrawlerProcess\n",
    "\n",
    "\n",
    "class WikiSpider(scrapy.Spider):\n",
    "    name = \"WS\"\n",
    "    \n",
    "    # Here is where we insert our API call.\n",
    "    start_urls = [\n",
    "        'https://en.wikipedia.org/w/api.php?action=query&format=xml&prop=linkshere&titles=Monty_Python&lhprop=title%7Credirect'\n",
    "        ]\n",
    "\n",
    "    # Identifying the information we want from the query response and extracting it using xpath.\n",
    "    def parse(self, response):\n",
    "        for item in response.xpath('//lh'):\n",
    "            # The ns code identifies the type of page the link comes from.  '0' means it is a Wikipedia entry.\n",
    "            # Other codes indicate links from 'Talk' pages, etc.  Since we are only interested in entries, we filter:\n",
    "            if item.xpath('@ns').extract_first() == '0':\n",
    "                yield {\n",
    "                    'title': item.xpath('@title').extract_first() \n",
    "                    }\n",
    "        # Getting the information needed to continue to the next ten entries.\n",
    "        next_page = response.xpath('continue/@lhcontinue').extract_first()\n",
    "        \n",
    "        # Recursively calling the spider to process the next ten entries, if they exist.\n",
    "        if next_page is not None:\n",
    "            next_page = '{}&lhcontinue={}'.format(self.start_urls[0],next_page)\n",
    "            yield scrapy.Request(next_page, callback=self.parse)\n",
    "            \n",
    "    \n",
    "process = CrawlerProcess({\n",
    "    'FEED_FORMAT': 'json',\n",
    "    'FEED_URI': 'PythonLinks.json',\n",
    "    # Note that because we are doing API queries, the robots.txt file doesn't apply to us.\n",
    "    'ROBOTSTXT_OBEY': False,\n",
    "    'USER_AGENT': 'ThinkfulDataScienceBootcampCrawler (thinkful.com)',\n",
    "    'AUTOTHROTTLE_ENABLED': True,\n",
    "    'HTTPCACHE_ENABLED': True,\n",
    "    'LOG_ENABLED': False,\n",
    "    # We use CLOSESPIDER_PAGECOUNT to limit our scraper to the first 100 links.    \n",
    "    'CLOSESPIDER_PAGECOUNT' : 10\n",
    "})\n",
    "                                         \n",
    "\n",
    "# Starting the crawler with our spider.\n",
    "process.crawl(WikiSpider)\n",
    "process.start()\n",
    "print('First 100 links extracted!')"
   ]
  },
  {
   "cell_type": "code",
   "execution_count": 2,
   "metadata": {},
   "outputs": [
    {
     "name": "stdout",
     "output_type": "stream",
     "text": [
      "(94, 1)\n",
      "                    title\n",
      "89  Surrealist automatism\n",
      "90        Raymond Queneau\n",
      "91           André Breton\n",
      "92      Tim Brooke-Taylor\n",
      "93           Fifth Beatle\n"
     ]
    }
   ],
   "source": [
    "import pandas as pd\n",
    "\n",
    "# Checking whether we got data \n",
    "\n",
    "Monty=pd.read_json('PythonLinks.json', orient='records')\n",
    "print(Monty.shape)\n",
    "print(Monty.tail())"
   ]
  },
  {
   "cell_type": "code",
   "execution_count": null,
   "metadata": {},
   "outputs": [],
   "source": []
  }
 ],
 "metadata": {
  "kernelspec": {
   "display_name": "Python 3",
   "language": "python",
   "name": "python3"
  },
  "language_info": {
   "codemirror_mode": {
    "name": "ipython",
    "version": 3
   },
   "file_extension": ".py",
   "mimetype": "text/x-python",
   "name": "python",
   "nbconvert_exporter": "python",
   "pygments_lexer": "ipython3",
   "version": "3.6.5"
  }
 },
 "nbformat": 4,
 "nbformat_minor": 2
}
