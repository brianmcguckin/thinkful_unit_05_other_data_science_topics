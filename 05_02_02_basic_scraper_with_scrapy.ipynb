{
 "cells": [
  {
   "cell_type": "markdown",
   "metadata": {},
   "source": [
    "### Scrapy\n",
    "- Has its own API, making it easy to write and debug spiders\n",
    "    - **Spider**: program that crawls/scrapes a website\n",
    "- Can run in command line or in jupyter\n",
    "- Lessons will use jupyer, for reference: [API docs](https://doc.scrapy.org/en/latest/topics/api.html) & [examples](https://doc.scrapy.org/en/latest/intro/examples.html)\n",
    "- Built on top of Twisted reactor\n",
    "    - Even driven, cannot be restarted within a session\n",
    "    - Need to restart kernel each time running a scrapy script in jupyter (command line is better)\n",
    "\n",
    "### Basic scraper\n",
    "- Everyday sexism project: collection of user submitted stories of experiencing or observing sexism\n",
    "    - Entries are stored/displayed as simple text entries\n",
    "    - Categories are user provided\n",
    "    - No API or other method to access data aside from the webpage\n",
    "- Scraper should:\n",
    "    - Pull data from every page\n",
    "    - Save entry text, category labels, date posted, name provided by poster\n",
    "- This simple scraper will save the entire webpage as an html file\n",
    "    - Provide one or more starting urls\n",
    "    - Scraper sends request to the server for the information at that url\n",
    "    - Server responds either with information or error code\n",
    "    - Scrapy processes response in accordance with the instructions it's been given"
   ]
  },
  {
   "cell_type": "code",
   "execution_count": 3,
   "metadata": {},
   "outputs": [
    {
     "name": "stderr",
     "output_type": "stream",
     "text": [
      "2018-08-16 17:07:47 [scrapy.utils.log] INFO: Scrapy 1.5.1 started (bot: scrapybot)\n",
      "2018-08-16 17:07:47 [scrapy.utils.log] INFO: Versions: lxml 4.2.1.0, libxml2 2.9.8, cssselect 1.0.3, parsel 1.5.0, w3lib 1.19.0, Twisted 18.7.0, Python 3.6.5 |Anaconda custom (64-bit)| (default, Apr 26 2018, 08:42:37) - [GCC 4.2.1 Compatible Clang 4.0.1 (tags/RELEASE_401/final)], pyOpenSSL 18.0.0 (OpenSSL 1.0.2o  27 Mar 2018), cryptography 2.2.2, Platform Darwin-17.7.0-x86_64-i386-64bit\n",
      "2018-08-16 17:07:47 [scrapy.crawler] INFO: Overridden settings: {}\n",
      "2018-08-16 17:07:48 [scrapy.middleware] INFO: Enabled extensions:\n",
      "['scrapy.extensions.corestats.CoreStats',\n",
      " 'scrapy.extensions.telnet.TelnetConsole',\n",
      " 'scrapy.extensions.memusage.MemoryUsage',\n",
      " 'scrapy.extensions.logstats.LogStats']\n",
      "2018-08-16 17:07:48 [scrapy.middleware] INFO: Enabled downloader middlewares:\n",
      "['scrapy.downloadermiddlewares.httpauth.HttpAuthMiddleware',\n",
      " 'scrapy.downloadermiddlewares.downloadtimeout.DownloadTimeoutMiddleware',\n",
      " 'scrapy.downloadermiddlewares.defaultheaders.DefaultHeadersMiddleware',\n",
      " 'scrapy.downloadermiddlewares.useragent.UserAgentMiddleware',\n",
      " 'scrapy.downloadermiddlewares.retry.RetryMiddleware',\n",
      " 'scrapy.downloadermiddlewares.redirect.MetaRefreshMiddleware',\n",
      " 'scrapy.downloadermiddlewares.httpcompression.HttpCompressionMiddleware',\n",
      " 'scrapy.downloadermiddlewares.redirect.RedirectMiddleware',\n",
      " 'scrapy.downloadermiddlewares.cookies.CookiesMiddleware',\n",
      " 'scrapy.downloadermiddlewares.httpproxy.HttpProxyMiddleware',\n",
      " 'scrapy.downloadermiddlewares.stats.DownloaderStats']\n",
      "2018-08-16 17:07:48 [scrapy.middleware] INFO: Enabled spider middlewares:\n",
      "['scrapy.spidermiddlewares.httperror.HttpErrorMiddleware',\n",
      " 'scrapy.spidermiddlewares.offsite.OffsiteMiddleware',\n",
      " 'scrapy.spidermiddlewares.referer.RefererMiddleware',\n",
      " 'scrapy.spidermiddlewares.urllength.UrlLengthMiddleware',\n",
      " 'scrapy.spidermiddlewares.depth.DepthMiddleware']\n",
      "2018-08-16 17:07:48 [scrapy.middleware] INFO: Enabled item pipelines:\n",
      "[]\n",
      "2018-08-16 17:07:48 [scrapy.core.engine] INFO: Spider opened\n",
      "2018-08-16 17:07:48 [scrapy.extensions.logstats] INFO: Crawled 0 pages (at 0 pages/min), scraped 0 items (at 0 items/min)\n",
      "2018-08-16 17:07:48 [scrapy.extensions.telnet] DEBUG: Telnet console listening on 127.0.0.1:6023\n",
      "2018-08-16 17:07:53 [scrapy.downloadermiddlewares.redirect] DEBUG: Redirecting (301) to <GET http://everydaysexism.com/> from <GET http://www.everydaysexism.com>\n",
      "2018-08-16 17:07:55 [scrapy.core.engine] DEBUG: Crawled (200) <GET http://everydaysexism.com/> (referer: None)\n",
      "2018-08-16 17:07:55 [scrapy.core.engine] INFO: Closing spider (finished)\n",
      "2018-08-16 17:07:55 [scrapy.statscollectors] INFO: Dumping Scrapy stats:\n",
      "{'downloader/request_bytes': 438,\n",
      " 'downloader/request_count': 2,\n",
      " 'downloader/request_method_count/GET': 2,\n",
      " 'downloader/response_bytes': 12067,\n",
      " 'downloader/response_count': 2,\n",
      " 'downloader/response_status_count/200': 1,\n",
      " 'downloader/response_status_count/301': 1,\n",
      " 'finish_reason': 'finished',\n",
      " 'finish_time': datetime.datetime(2018, 8, 16, 22, 7, 55, 425120),\n",
      " 'log_count/DEBUG': 3,\n",
      " 'log_count/INFO': 7,\n",
      " 'memusage/max': 67219456,\n",
      " 'memusage/startup': 67219456,\n",
      " 'response_received_count': 1,\n",
      " 'scheduler/dequeued': 2,\n",
      " 'scheduler/dequeued/memory': 2,\n",
      " 'scheduler/enqueued': 2,\n",
      " 'scheduler/enqueued/memory': 2,\n",
      " 'start_time': datetime.datetime(2018, 8, 16, 22, 7, 48, 226454)}\n",
      "2018-08-16 17:07:55 [scrapy.core.engine] INFO: Spider closed (finished)\n"
     ]
    }
   ],
   "source": [
    "# imports in each cell because of kernel restarts\n",
    "import scrapy\n",
    "from scrapy.crawler import CrawlerProcess\n",
    "\n",
    "class ESSpider(scrapy.Spider):\n",
    "    # naming spiders is important when running more than one spider of\n",
    "    # the same class simultaneously\n",
    "    name = 'ESS'\n",
    "    \n",
    "    # starting url(s)\n",
    "    start_urls = ['http://www.everydaysexism.com',]\n",
    "    \n",
    "    # download all code and save to mainpage.html file\n",
    "    def parse(self, response):\n",
    "        with open('mainpage.html', 'wb') as f:\n",
    "            f.write(response.body)\n",
    "\n",
    "# instantiate crawler\n",
    "process = CrawlerProcess()\n",
    "\n",
    "# start crawler with spider\n",
    "process.crawl(ESSpider)\n",
    "process.start()"
   ]
  },
  {
   "cell_type": "markdown",
   "metadata": {},
   "source": [
    "### Parsing HTML\n",
    "- Webpages are written in HTML, XML, and CSS\n",
    "- Inspecting webpages:\n",
    "    - Elements tab shows the code for page\n",
    "    - Element will be highlight to show where on the webpage a piece of code is referring to\n",
    "- Everyday Sexism Project:\n",
    "    - Each submission is contained within an `<article>` element\n",
    "    - Each article has a nested `<header>`, `<section>`, and `<footer>` elemnts\n",
    "    - Submissions are standardized in format, can use a template to build parsing instructions\n",
    "- Getting information out of html code and into parser\n",
    "    - Regex: ignores context\n",
    "        - HTML is context based, content described by tag depends on where that tag is positioned, opened, and closed\n",
    "        - Combining html and regex results in fragile code that breaks easily\n",
    "    - Xpath: context aware parser natively incorporated in scrapy (along with CSS-based)\n",
    "        - Treats nested code like file paths\n",
    "        - Each level is referred to as a node\n",
    "    - Xpath expressoin to find the title of a submission in ESP page: //article/header/h2/a/@title\n",
    "        - //article: locate every article node in the page\n",
    "        - /header: find header node nested directly underneath article node\n",
    "        - /h2: find the h2 node nested directly under the header node\n",
    "        - /a: find the a node nested directly under the h2 node\n",
    "        - /@title: find the title attribute within the a node\n",
    "    - [XPath tester](http://www.freeformatter.com/xpath-tester.html) for experimenting with Xpath\n",
    "    \n",
    "### Storing output as JSON\n",
    "- Scrapy writes information to a file\n",
    "- Raw html isn't very useful\n",
    "- JSON stores data in a format similar to python dictionaries\n",
    "    - Useful for non-flat (semi structured) data where rows can have different numbers of columns\n",
    "    - JSON is easy to read back into python\n"
   ]
  },
  {
   "cell_type": "code",
   "execution_count": 1,
   "metadata": {},
   "outputs": [
    {
     "name": "stdout",
     "output_type": "stream",
     "text": [
      "success\n"
     ]
    }
   ],
   "source": [
    "# imports in each cell because of kernel restarts\n",
    "import scrapy\n",
    "from scrapy.crawler import CrawlerProcess\n",
    "\n",
    "class ESSpider(scrapy.Spider):\n",
    "    # naming spiders is important when running more than one spider of\n",
    "    # the same class simultaneously\n",
    "    name = 'ESS'\n",
    "    \n",
    "    # starting url(s)\n",
    "    start_urls = ['http://www.everydaysexism.com',]\n",
    "    \n",
    "    # xpath to parse response\n",
    "    def parse(self, response):\n",
    "        \n",
    "        # iterate over every <article> element on page\n",
    "        for article in response.xpath('//article'):\n",
    "            \n",
    "            # yield a dictionary with desired values\n",
    "            yield {\n",
    "                'name': article.xpath('header/h2/a/@title').extract_first(),\n",
    "                'date': article.xpath('header/section/span[@class=\"entry-date\"]/text()').extract_first(),\n",
    "                'text': article.xpath('section[@class=\"entry-content\"]/p/text()').extract(),\n",
    "                'tags': article.xpath('*/span[@class=\"tag-links\"]/a/text()').extract()\n",
    "            }\n",
    "\n",
    "# pass arguments telling script how to run the crawler\n",
    "process = CrawlerProcess({\n",
    "    'FEED_FORMAT': 'json', # store in json format\n",
    "    'FEED_URI': 'firstpage.json', # name storage file\n",
    "    'LOG_ENABLED': False # turn off logging\n",
    "})\n",
    "\n",
    "# start crawler with spider\n",
    "process.crawl(ESSpider)\n",
    "process.start()\n",
    "print('success')"
   ]
  },
  {
   "cell_type": "markdown",
   "metadata": {},
   "source": [
    "### Checking the output\n",
    "- Should have a json file 'firstpage.json'\n",
    "- **Note**:\n",
    "    - Scrapy will attempt to append new info to end of old json file if try running code more than once in a row\n",
    "    - Will end up with an 'end of file' notation in the middle of the file\n",
    "    - Delete json file before re-running or else will receive a 'trailing file' error"
   ]
  },
  {
   "cell_type": "code",
   "execution_count": 2,
   "metadata": {},
   "outputs": [
    {
     "name": "stdout",
     "output_type": "stream",
     "text": [
      "(10, 4)\n",
      "        date            name  \\\n",
      "0 2018-08-13           Penny   \n",
      "1 2018-08-13           Nope.   \n",
      "2 2018-08-13        Michelle   \n",
      "3 2018-08-13  UK IT Employee   \n",
      "4 2018-08-13              me   \n",
      "\n",
      "                                                tags  \\\n",
      "0                                     [Public space]   \n",
      "1                                        [Workplace]   \n",
      "2                                           [School]   \n",
      "3  [UK Equality; UK Gender Pay Gap; Conscious and...   \n",
      "4                                           [School]   \n",
      "\n",
      "                                                text  \n",
      "0  [I was walking along the road the other day at...  \n",
      "1  [A technician position opened up at my job. Ou...  \n",
      "2  [I have had numerous displeasant encounters wi...  \n",
      "3  [I work for a large multi-national IT organisa...  \n",
      "4  [Once in high school, a boy pinned me to the w...  \n"
     ]
    }
   ],
   "source": [
    "import pandas as pd\n",
    "\n",
    "firstpage = pd.read_json('firstpage.json', orient='records')\n",
    "print(firstpage.shape)\n",
    "print(firstpage.head())"
   ]
  },
  {
   "cell_type": "markdown",
   "metadata": {},
   "source": [
    "### Recursion"
   ]
  },
  {
   "cell_type": "code",
   "execution_count": null,
   "metadata": {},
   "outputs": [],
   "source": []
  }
 ],
 "metadata": {
  "kernelspec": {
   "display_name": "Python 3",
   "language": "python",
   "name": "python3"
  },
  "language_info": {
   "codemirror_mode": {
    "name": "ipython",
    "version": 3
   },
   "file_extension": ".py",
   "mimetype": "text/x-python",
   "name": "python",
   "nbconvert_exporter": "python",
   "pygments_lexer": "ipython3",
   "version": "3.6.5"
  }
 },
 "nbformat": 4,
 "nbformat_minor": 2
}
