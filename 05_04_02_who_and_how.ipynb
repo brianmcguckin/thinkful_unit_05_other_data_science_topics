{
 "cells": [
  {
   "cell_type": "markdown",
   "metadata": {},
   "source": [
    "## Who and How\n",
    "When building a survey, need to consider:\n",
    "1. Who you want to learn about\n",
    "2. How to administer the survey\n",
    "\n",
    "### Weights\n",
    "- Some demographic groups are more likely to complete surveys than others\n",
    "- Can mitigate this effect using weights\n",
    "- **Weights**: uses the demographics of sample & frequency of their respective responses to match the demographics of the actual population\n",
    "    - If demographic groups are over/under represented, and their answers differ along demographic delineations, the survey results won't accurately reflect the population as a whole\n",
    "    - Compare survey response sample to known data (census, etc)\n",
    "    - Apply less weight to overrepresented groups, more to underrepresented groups\n",
    "        - Weights determined by dividing true population percentage by sample percentage\n",
    "- Major polling companies (Gallup et al) have their own weighting schemes\n",
    "- Demographic definitions range from broad (eg race, sex) to narrow (eg a certain sex of a certain race falling within an age range)\n",
    "    - Narrower slices are more vulnerable to bias from weighting if they aren't representative of the demographic\n",
    "\n",
    "### Power\n",
    "- From larger samples, can provide more precise estimates and detect smaller effects\n",
    "- **Effect**: the ratio of the size of parameter of interest to the variance in the parameter estimate\n",
    "    - Example: compare the ages of employees at 2 different company locations\n",
    "        - Parameter of interest: difference in ages\n",
    "        - Variance estimate is the pooled variance of the ages at the 2 locations\n",
    "        - Effect size of 1 implies interest in seeing if age difference between the 2 locations is as large or larger than the total variance (pooled from both locations)\n",
    "- **Statistical power**: the ability to detect an effect in the data\n",
    "    - Larger samples have more statistical power\n",
    "    - Statistics more closely resemble the true population since individual observations have less influence\n",
    "- Estimates of variance (noise) are scaled by sample size\n",
    "    - Standard error of sample mean is std dev divided by sample size\n",
    "    - Larger sample size equates to smaller standard error\n",
    "- Statistical power is a balance between:\n",
    "    - $\\mu$: size of parameter of interest in the population\n",
    "    - $\\sigma$: amount of variance in population\n",
    "    - $n$: sample size\n",
    "    - Notice $\\mu$ and $\\sigma$ depend on knowledge of the population mean and variance\n",
    "        - If this was known, wouldn't need to do a survey\n",
    "        - These are typically estimated from previous surveys and/or domain knowledge\n",
    "    - Ideally, collect the smallest $n$ that gives power to detect your effect\n",
    "### Question and response option order\n",
    "- **Random assignment to groups**: don't want extraneous factors to affect the experiment\n",
    "    - Equally likely any participant will be assigned to any group\n",
    "    - Random assignment helps create groups with similar proportions of gender, age, iq, etc\n",
    "- **Randomization** is also useful for survey questions\n",
    "    - Order questions are asked can influence responses\n",
    "    - Questions near the end are more likely to be skipped\n",
    "    - Answering an earlier question can impact answers later in the survey\n",
    "- Showing questions in a random order can help resolve these order problems\n",
    "    - Limitations with paper surveys and questions with dependencies\n",
    "    - Multiple response questions (multiple choice, constant sum, ranking)\n",
    "        - Item shown first is typically chosen more often\n",
    "    - Text shown on the left side of screen/paper is often given preference (for languages read left to right)"
   ]
  },
  {
   "cell_type": "code",
   "execution_count": null,
   "metadata": {},
   "outputs": [],
   "source": []
  }
 ],
 "metadata": {
  "kernelspec": {
   "display_name": "Python 3",
   "language": "python",
   "name": "python3"
  },
  "language_info": {
   "codemirror_mode": {
    "name": "ipython",
    "version": 3
   },
   "file_extension": ".py",
   "mimetype": "text/x-python",
   "name": "python",
   "nbconvert_exporter": "python",
   "pygments_lexer": "ipython3",
   "version": "3.6.5"
  }
 },
 "nbformat": 4,
 "nbformat_minor": 2
}
