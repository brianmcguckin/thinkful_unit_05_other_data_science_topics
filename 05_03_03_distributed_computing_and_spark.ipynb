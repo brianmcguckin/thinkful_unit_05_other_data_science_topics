{
 "cells": [
  {
   "cell_type": "markdown",
   "metadata": {},
   "source": [
    "## Distributed Computing and Spark\n",
    "- Using standard tools on big data translates to slow analysis & modeling\n",
    "- Big data also has its own tools/techniques\n",
    "\n",
    "### Multicore Computing\n",
    "- **Parallelization**: packages like sklearn have n_jobs option to set the number of cores to utilize when training model\n",
    "    - Trains on multiple cores simultaneously\n",
    "    - Theoretically, processing time is divided by the number of cores (2 cores over 1 = half the time to train)\n",
    "- Some models are easier to parallelize than others but most can be parallelized in some way\n",
    "    - Random forest: different cores generate different trees\n",
    "    - Boosted trees: as trees split, subsequent models run in different cores\n",
    "    - SVM doesn't parallelize well, uses memory for points near margins\n",
    "\n",
    "### SPARK\n",
    "- Training/running models locally is often out of the question\n",
    "    - Too much data\n",
    "    - Too long to train\n",
    "- Spark: distributed computing tool from the Apache suite built up around hadoop\n",
    "    - PySpark: python like syntax for Spark making it easy to translate python to spark\n",
    "        - Looks nearly identical to python\n",
    "        - Requires infrastructure set up to run\n",
    "    - There also Spark versions of iPython/Jupyter notebooks and SKLearn"
   ]
  },
  {
   "cell_type": "code",
   "execution_count": null,
   "metadata": {},
   "outputs": [],
   "source": []
  }
 ],
 "metadata": {
  "kernelspec": {
   "display_name": "Python 3",
   "language": "python",
   "name": "python3"
  },
  "language_info": {
   "codemirror_mode": {
    "name": "ipython",
    "version": 3
   },
   "file_extension": ".py",
   "mimetype": "text/x-python",
   "name": "python",
   "nbconvert_exporter": "python",
   "pygments_lexer": "ipython3",
   "version": "3.6.5"
  }
 },
 "nbformat": 4,
 "nbformat_minor": 2
}
